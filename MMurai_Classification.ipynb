{
  "nbformat": 4,
  "nbformat_minor": 0,
  "metadata": {
    "colab": {
      "provenance": [],
      "collapsed_sections": []
    },
    "kernelspec": {
      "display_name": "Python 3",
      "name": "python3"
    },
    "language_info": {
      "name": "python"
    }
  },
  "cells": [
    {
      "cell_type": "code",
      "metadata": {
        "colab": {
          "base_uri": "https://localhost:8080/"
        },
        "id": "OwimFls6aml2",
        "outputId": "deee7884-4d66-4829-d20d-ddee839c9999"
      },
      "source": [
        "#Start by connecting gdrive into the google colab\n",
        "from google.colab import drive\n",
        "drive.mount('/content/gdrive')"
      ],
      "execution_count": null,
      "outputs": [
        {
          "output_type": "stream",
          "name": "stdout",
          "text": [
            "Drive already mounted at /content/gdrive; to attempt to forcibly remount, call drive.mount(\"/content/gdrive\", force_remount=True).\n"
          ]
        }
      ]
    },
    {
      "cell_type": "code",
      "metadata": {
        "id": "7KzcVYcFbFC9"
      },
      "source": [
        "# Import dependencies\n",
        "import os\n",
        "import cv2\n",
        "import h5py\n",
        "import dlib\n",
        "import math\n",
        "import numpy as np\n",
        "import tensorflow as tf\n",
        "import pandas as pd\n",
        "from pathlib import Path\n",
        "from tensorflow.keras.models import Model, load_model\n",
        "from tensorflow.keras.layers import Dense, Input\n",
        "from tensorflow.keras.losses import categorical_crossentropy\n",
        "from tensorflow.keras.callbacks import ModelCheckpoint\n",
        "from tensorflow.keras.optimizers import Adam\n",
        "#from google.colab import drive\n",
        "import matplotlib.pyplot as plt"
      ],
      "execution_count": null,
      "outputs": []
    },
    {
      "cell_type": "code",
      "metadata": {
        "id": "0AguX1kIbVKK"
      },
      "source": [
        "# akses training data\n",
        "#drive.mount(\"/content/gdrive\")\n",
        "directory = '/content/gdrive/MyDrive/Manuk'"
      ],
      "execution_count": null,
      "outputs": []
    },
    {
      "cell_type": "code",
      "metadata": {
        "id": "YYJyGntSyDQn"
      },
      "source": [
        "import pandas as pd"
      ],
      "execution_count": null,
      "outputs": []
    },
    {
      "cell_type": "code",
      "metadata": {
        "id": "MZ4DWM-IgX7U"
      },
      "source": [
        "import os"
      ],
      "execution_count": null,
      "outputs": []
    },
    {
      "cell_type": "code",
      "metadata": {
        "id": "hNvkKuNRdrnl"
      },
      "source": [
        "class data:\n",
        "    def __init__(self, path):\n",
        "        self.path = path\n",
        "    \n",
        "    def dataframe(self):\n",
        "        path_name= []\n",
        "        target_name = []\n",
        "        for i in os.listdir(self.path):\n",
        "            for j in os.listdir(os.path.join(self.path + \"/\", i)):\n",
        "                pic = os.path.join(self.path + \"/\", i + \"/\", j)\n",
        "                path_name.append(pic)\n",
        "                target_name.append(i) \n",
        "        asl = pd.DataFrame()\n",
        "        asl[\"sound\"] = path_name\n",
        "        asl[\"target\"] = target_name \n",
        "        return asl"
      ],
      "execution_count": null,
      "outputs": []
    },
    {
      "cell_type": "code",
      "metadata": {
        "id": "kuF3qxX5duuR"
      },
      "source": [
        "murai = data(directory)"
      ],
      "execution_count": null,
      "outputs": []
    },
    {
      "cell_type": "code",
      "metadata": {
        "id": "4JWciLwid9Bl"
      },
      "source": [
        "murai_data = murai.dataframe()"
      ],
      "execution_count": null,
      "outputs": []
    },
    {
      "cell_type": "code",
      "metadata": {
        "colab": {
          "base_uri": "https://localhost:8080/",
          "height": 802
        },
        "id": "7mvXOUz6f2Os",
        "outputId": "177a956a-69fd-48a1-f094-4984d5e281db"
      },
      "source": [
        "murai_data"
      ],
      "execution_count": null,
      "outputs": [
        {
          "output_type": "execute_result",
          "data": {
            "text/plain": [
              "                                           sound target\n",
              "0    /content/gdrive/MyDrive/Manuk/Bagus/Ba1.mp3  Bagus\n",
              "1    /content/gdrive/MyDrive/Manuk/Bagus/Ba2.mp3  Bagus\n",
              "2    /content/gdrive/MyDrive/Manuk/Bagus/Ba3.mp3  Bagus\n",
              "3    /content/gdrive/MyDrive/Manuk/Bagus/Ba4.mp3  Bagus\n",
              "4    /content/gdrive/MyDrive/Manuk/Bagus/Ba5.mp3  Bagus\n",
              "5    /content/gdrive/MyDrive/Manuk/Bagus/Ba6.mp3  Bagus\n",
              "6    /content/gdrive/MyDrive/Manuk/Bagus/Ba7.mp3  Bagus\n",
              "7    /content/gdrive/MyDrive/Manuk/Bagus/Ba8.mp3  Bagus\n",
              "8    /content/gdrive/MyDrive/Manuk/Bagus/Ba9.mp3  Bagus\n",
              "9   /content/gdrive/MyDrive/Manuk/Bagus/Ba10.mp3  Bagus\n",
              "10  /content/gdrive/MyDrive/Manuk/Bagus/Ba12.mp3  Bagus\n",
              "11  /content/gdrive/MyDrive/Manuk/Bagus/Ba11.mp3  Bagus\n",
              "12   /content/gdrive/MyDrive/Manuk/Biasa/Bi1.mp3  Biasa\n",
              "13   /content/gdrive/MyDrive/Manuk/Biasa/Bi2.mp3  Biasa\n",
              "14   /content/gdrive/MyDrive/Manuk/Biasa/Bi3.mp3  Biasa\n",
              "15   /content/gdrive/MyDrive/Manuk/Biasa/Bi4.mp3  Biasa\n",
              "16   /content/gdrive/MyDrive/Manuk/Biasa/Bi5.mp3  Biasa\n",
              "17   /content/gdrive/MyDrive/Manuk/Biasa/Bi6.mp3  Biasa\n",
              "18   /content/gdrive/MyDrive/Manuk/Biasa/Bi7.mp3  Biasa\n",
              "19   /content/gdrive/MyDrive/Manuk/Biasa/Bi8.mp3  Biasa\n",
              "20   /content/gdrive/MyDrive/Manuk/Biasa/Bi9.mp3  Biasa\n",
              "21  /content/gdrive/MyDrive/Manuk/Biasa/Bi10.mp3  Biasa\n",
              "22  /content/gdrive/MyDrive/Manuk/Biasa/Bi11.mp3  Biasa\n",
              "23  /content/gdrive/MyDrive/Manuk/Biasa/Bi12.mp3  Biasa"
            ],
            "text/html": [
              "\n",
              "  <div id=\"df-47111182-bced-4356-a332-0bcebaee0ec7\">\n",
              "    <div class=\"colab-df-container\">\n",
              "      <div>\n",
              "<style scoped>\n",
              "    .dataframe tbody tr th:only-of-type {\n",
              "        vertical-align: middle;\n",
              "    }\n",
              "\n",
              "    .dataframe tbody tr th {\n",
              "        vertical-align: top;\n",
              "    }\n",
              "\n",
              "    .dataframe thead th {\n",
              "        text-align: right;\n",
              "    }\n",
              "</style>\n",
              "<table border=\"1\" class=\"dataframe\">\n",
              "  <thead>\n",
              "    <tr style=\"text-align: right;\">\n",
              "      <th></th>\n",
              "      <th>sound</th>\n",
              "      <th>target</th>\n",
              "    </tr>\n",
              "  </thead>\n",
              "  <tbody>\n",
              "    <tr>\n",
              "      <th>0</th>\n",
              "      <td>/content/gdrive/MyDrive/Manuk/Bagus/Ba1.mp3</td>\n",
              "      <td>Bagus</td>\n",
              "    </tr>\n",
              "    <tr>\n",
              "      <th>1</th>\n",
              "      <td>/content/gdrive/MyDrive/Manuk/Bagus/Ba2.mp3</td>\n",
              "      <td>Bagus</td>\n",
              "    </tr>\n",
              "    <tr>\n",
              "      <th>2</th>\n",
              "      <td>/content/gdrive/MyDrive/Manuk/Bagus/Ba3.mp3</td>\n",
              "      <td>Bagus</td>\n",
              "    </tr>\n",
              "    <tr>\n",
              "      <th>3</th>\n",
              "      <td>/content/gdrive/MyDrive/Manuk/Bagus/Ba4.mp3</td>\n",
              "      <td>Bagus</td>\n",
              "    </tr>\n",
              "    <tr>\n",
              "      <th>4</th>\n",
              "      <td>/content/gdrive/MyDrive/Manuk/Bagus/Ba5.mp3</td>\n",
              "      <td>Bagus</td>\n",
              "    </tr>\n",
              "    <tr>\n",
              "      <th>5</th>\n",
              "      <td>/content/gdrive/MyDrive/Manuk/Bagus/Ba6.mp3</td>\n",
              "      <td>Bagus</td>\n",
              "    </tr>\n",
              "    <tr>\n",
              "      <th>6</th>\n",
              "      <td>/content/gdrive/MyDrive/Manuk/Bagus/Ba7.mp3</td>\n",
              "      <td>Bagus</td>\n",
              "    </tr>\n",
              "    <tr>\n",
              "      <th>7</th>\n",
              "      <td>/content/gdrive/MyDrive/Manuk/Bagus/Ba8.mp3</td>\n",
              "      <td>Bagus</td>\n",
              "    </tr>\n",
              "    <tr>\n",
              "      <th>8</th>\n",
              "      <td>/content/gdrive/MyDrive/Manuk/Bagus/Ba9.mp3</td>\n",
              "      <td>Bagus</td>\n",
              "    </tr>\n",
              "    <tr>\n",
              "      <th>9</th>\n",
              "      <td>/content/gdrive/MyDrive/Manuk/Bagus/Ba10.mp3</td>\n",
              "      <td>Bagus</td>\n",
              "    </tr>\n",
              "    <tr>\n",
              "      <th>10</th>\n",
              "      <td>/content/gdrive/MyDrive/Manuk/Bagus/Ba12.mp3</td>\n",
              "      <td>Bagus</td>\n",
              "    </tr>\n",
              "    <tr>\n",
              "      <th>11</th>\n",
              "      <td>/content/gdrive/MyDrive/Manuk/Bagus/Ba11.mp3</td>\n",
              "      <td>Bagus</td>\n",
              "    </tr>\n",
              "    <tr>\n",
              "      <th>12</th>\n",
              "      <td>/content/gdrive/MyDrive/Manuk/Biasa/Bi1.mp3</td>\n",
              "      <td>Biasa</td>\n",
              "    </tr>\n",
              "    <tr>\n",
              "      <th>13</th>\n",
              "      <td>/content/gdrive/MyDrive/Manuk/Biasa/Bi2.mp3</td>\n",
              "      <td>Biasa</td>\n",
              "    </tr>\n",
              "    <tr>\n",
              "      <th>14</th>\n",
              "      <td>/content/gdrive/MyDrive/Manuk/Biasa/Bi3.mp3</td>\n",
              "      <td>Biasa</td>\n",
              "    </tr>\n",
              "    <tr>\n",
              "      <th>15</th>\n",
              "      <td>/content/gdrive/MyDrive/Manuk/Biasa/Bi4.mp3</td>\n",
              "      <td>Biasa</td>\n",
              "    </tr>\n",
              "    <tr>\n",
              "      <th>16</th>\n",
              "      <td>/content/gdrive/MyDrive/Manuk/Biasa/Bi5.mp3</td>\n",
              "      <td>Biasa</td>\n",
              "    </tr>\n",
              "    <tr>\n",
              "      <th>17</th>\n",
              "      <td>/content/gdrive/MyDrive/Manuk/Biasa/Bi6.mp3</td>\n",
              "      <td>Biasa</td>\n",
              "    </tr>\n",
              "    <tr>\n",
              "      <th>18</th>\n",
              "      <td>/content/gdrive/MyDrive/Manuk/Biasa/Bi7.mp3</td>\n",
              "      <td>Biasa</td>\n",
              "    </tr>\n",
              "    <tr>\n",
              "      <th>19</th>\n",
              "      <td>/content/gdrive/MyDrive/Manuk/Biasa/Bi8.mp3</td>\n",
              "      <td>Biasa</td>\n",
              "    </tr>\n",
              "    <tr>\n",
              "      <th>20</th>\n",
              "      <td>/content/gdrive/MyDrive/Manuk/Biasa/Bi9.mp3</td>\n",
              "      <td>Biasa</td>\n",
              "    </tr>\n",
              "    <tr>\n",
              "      <th>21</th>\n",
              "      <td>/content/gdrive/MyDrive/Manuk/Biasa/Bi10.mp3</td>\n",
              "      <td>Biasa</td>\n",
              "    </tr>\n",
              "    <tr>\n",
              "      <th>22</th>\n",
              "      <td>/content/gdrive/MyDrive/Manuk/Biasa/Bi11.mp3</td>\n",
              "      <td>Biasa</td>\n",
              "    </tr>\n",
              "    <tr>\n",
              "      <th>23</th>\n",
              "      <td>/content/gdrive/MyDrive/Manuk/Biasa/Bi12.mp3</td>\n",
              "      <td>Biasa</td>\n",
              "    </tr>\n",
              "  </tbody>\n",
              "</table>\n",
              "</div>\n",
              "      <button class=\"colab-df-convert\" onclick=\"convertToInteractive('df-47111182-bced-4356-a332-0bcebaee0ec7')\"\n",
              "              title=\"Convert this dataframe to an interactive table.\"\n",
              "              style=\"display:none;\">\n",
              "        \n",
              "  <svg xmlns=\"http://www.w3.org/2000/svg\" height=\"24px\"viewBox=\"0 0 24 24\"\n",
              "       width=\"24px\">\n",
              "    <path d=\"M0 0h24v24H0V0z\" fill=\"none\"/>\n",
              "    <path d=\"M18.56 5.44l.94 2.06.94-2.06 2.06-.94-2.06-.94-.94-2.06-.94 2.06-2.06.94zm-11 1L8.5 8.5l.94-2.06 2.06-.94-2.06-.94L8.5 2.5l-.94 2.06-2.06.94zm10 10l.94 2.06.94-2.06 2.06-.94-2.06-.94-.94-2.06-.94 2.06-2.06.94z\"/><path d=\"M17.41 7.96l-1.37-1.37c-.4-.4-.92-.59-1.43-.59-.52 0-1.04.2-1.43.59L10.3 9.45l-7.72 7.72c-.78.78-.78 2.05 0 2.83L4 21.41c.39.39.9.59 1.41.59.51 0 1.02-.2 1.41-.59l7.78-7.78 2.81-2.81c.8-.78.8-2.07 0-2.86zM5.41 20L4 18.59l7.72-7.72 1.47 1.35L5.41 20z\"/>\n",
              "  </svg>\n",
              "      </button>\n",
              "      \n",
              "  <style>\n",
              "    .colab-df-container {\n",
              "      display:flex;\n",
              "      flex-wrap:wrap;\n",
              "      gap: 12px;\n",
              "    }\n",
              "\n",
              "    .colab-df-convert {\n",
              "      background-color: #E8F0FE;\n",
              "      border: none;\n",
              "      border-radius: 50%;\n",
              "      cursor: pointer;\n",
              "      display: none;\n",
              "      fill: #1967D2;\n",
              "      height: 32px;\n",
              "      padding: 0 0 0 0;\n",
              "      width: 32px;\n",
              "    }\n",
              "\n",
              "    .colab-df-convert:hover {\n",
              "      background-color: #E2EBFA;\n",
              "      box-shadow: 0px 1px 2px rgba(60, 64, 67, 0.3), 0px 1px 3px 1px rgba(60, 64, 67, 0.15);\n",
              "      fill: #174EA6;\n",
              "    }\n",
              "\n",
              "    [theme=dark] .colab-df-convert {\n",
              "      background-color: #3B4455;\n",
              "      fill: #D2E3FC;\n",
              "    }\n",
              "\n",
              "    [theme=dark] .colab-df-convert:hover {\n",
              "      background-color: #434B5C;\n",
              "      box-shadow: 0px 1px 3px 1px rgba(0, 0, 0, 0.15);\n",
              "      filter: drop-shadow(0px 1px 2px rgba(0, 0, 0, 0.3));\n",
              "      fill: #FFFFFF;\n",
              "    }\n",
              "  </style>\n",
              "\n",
              "      <script>\n",
              "        const buttonEl =\n",
              "          document.querySelector('#df-47111182-bced-4356-a332-0bcebaee0ec7 button.colab-df-convert');\n",
              "        buttonEl.style.display =\n",
              "          google.colab.kernel.accessAllowed ? 'block' : 'none';\n",
              "\n",
              "        async function convertToInteractive(key) {\n",
              "          const element = document.querySelector('#df-47111182-bced-4356-a332-0bcebaee0ec7');\n",
              "          const dataTable =\n",
              "            await google.colab.kernel.invokeFunction('convertToInteractive',\n",
              "                                                     [key], {});\n",
              "          if (!dataTable) return;\n",
              "\n",
              "          const docLinkHtml = 'Like what you see? Visit the ' +\n",
              "            '<a target=\"_blank\" href=https://colab.research.google.com/notebooks/data_table.ipynb>data table notebook</a>'\n",
              "            + ' to learn more about interactive tables.';\n",
              "          element.innerHTML = '';\n",
              "          dataTable['output_type'] = 'display_data';\n",
              "          await google.colab.output.renderOutput(dataTable, element);\n",
              "          const docLink = document.createElement('div');\n",
              "          docLink.innerHTML = docLinkHtml;\n",
              "          element.appendChild(docLink);\n",
              "        }\n",
              "      </script>\n",
              "    </div>\n",
              "  </div>\n",
              "  "
            ]
          },
          "metadata": {},
          "execution_count": 84
        }
      ]
    },
    {
      "cell_type": "code",
      "metadata": {
        "colab": {
          "base_uri": "https://localhost:8080/"
        },
        "id": "QS218friecb5",
        "outputId": "13e19913-a78f-4ad7-d6e8-f0f135dc9fea"
      },
      "source": [
        "murai_data.target.unique()"
      ],
      "execution_count": null,
      "outputs": [
        {
          "output_type": "execute_result",
          "data": {
            "text/plain": [
              "array(['Bagus', 'Biasa'], dtype=object)"
            ]
          },
          "metadata": {},
          "execution_count": 85
        }
      ]
    },
    {
      "cell_type": "code",
      "metadata": {
        "colab": {
          "base_uri": "https://localhost:8080/",
          "height": 351
        },
        "id": "_xWU1s5-evpj",
        "outputId": "0204cdfc-16a0-44ad-9c48-7350aaff97cf"
      },
      "source": [
        "import seaborn as sns\n",
        "sns.countplot(murai_data.target)"
      ],
      "execution_count": null,
      "outputs": [
        {
          "output_type": "stream",
          "name": "stderr",
          "text": [
            "/usr/local/lib/python3.7/dist-packages/seaborn/_decorators.py:43: FutureWarning: Pass the following variable as a keyword arg: x. From version 0.12, the only valid positional argument will be `data`, and passing other arguments without an explicit keyword will result in an error or misinterpretation.\n",
            "  FutureWarning\n"
          ]
        },
        {
          "output_type": "execute_result",
          "data": {
            "text/plain": [
              "<matplotlib.axes._subplots.AxesSubplot at 0x7fc68e315dd0>"
            ]
          },
          "metadata": {},
          "execution_count": 86
        },
        {
          "output_type": "display_data",
          "data": {
            "text/plain": [
              "<Figure size 432x288 with 1 Axes>"
            ],
            "image/png": "[encoded data removed]"
          },
          "metadata": {
            "needs_background": "light"
          }
        }
      ]
    },
    {
      "cell_type": "code",
      "metadata": {
        "id": "qfYLUkMDgtAB"
      },
      "source": [
        "import numpy as np"
      ],
      "execution_count": null,
      "outputs": []
    },
    {
      "cell_type": "code",
      "metadata": {
        "colab": {
          "base_uri": "https://localhost:8080/"
        },
        "id": "oyQeKJo0x8mX",
        "outputId": "8d1d16f1-e2b6-4d03-fb6f-ce48c0a305f9"
      },
      "source": [
        "unique, count = np.unique(murai_data.target, return_counts =True)\n",
        "target_unique = {k:v for (k,v) in zip(unique, count)}\n",
        "target_unique"
      ],
      "execution_count": null,
      "outputs": [
        {
          "output_type": "execute_result",
          "data": {
            "text/plain": [
              "{'Bagus': 12, 'Biasa': 12}"
            ]
          },
          "metadata": {},
          "execution_count": 88
        }
      ]
    },
    {
      "cell_type": "markdown",
      "metadata": {
        "id": "ly0BnBoVBrCq"
      },
      "source": [
        "## preprocessing"
      ]
    },
    {
      "cell_type": "code",
      "metadata": {
        "id": "1YOvC6gPmE1E"
      },
      "source": [
        "import glob\n",
        "import librosa\n",
        "import librosa.display"
      ],
      "execution_count": null,
      "outputs": []
    },
    {
      "cell_type": "code",
      "metadata": {
        "id": "EBqUk0b3nYgT"
      },
      "source": [
        "import struct\n",
        "\n",
        "class WavFileHelper():\n",
        "    \n",
        "    def read_file_properties(self, filename):\n",
        "\n",
        "        wave_file = open(filename,\"rb\")\n",
        "        \n",
        "        riff = wave_file.read(12)\n",
        "        fmt = wave_file.read(36)\n",
        "        \n",
        "        num_channels_string = fmt[10:12]\n",
        "        num_channels = struct.unpack('<H', num_channels_string)[0]\n",
        "\n",
        "        sample_rate_string = fmt[12:16]\n",
        "        sample_rate = struct.unpack(\"<I\",sample_rate_string)[0]\n",
        "        \n",
        "        bit_depth_string = fmt[22:24]\n",
        "        bit_depth = struct.unpack(\"<H\",bit_depth_string)[0]\n",
        "\n",
        "        return (num_channels, sample_rate, bit_depth)"
      ],
      "execution_count": null,
      "outputs": []
    },
    {
      "cell_type": "code",
      "metadata": {
        "id": "rM4uTgGomtcx"
      },
      "source": [
        "wavfilehelper = WavFileHelper()\n",
        "\n",
        "audiodata = []\n",
        "for index, row in murai_data.iterrows():\n",
        "    \n",
        "    file_name = row['sound']\n",
        "    data = wavfilehelper.read_file_properties(file_name)\n",
        "    audiodata.append(data)\n",
        "\n",
        "# Convert into a Panda dataframe\n",
        "audiodf = pd.DataFrame(audiodata, columns=['num_channels','sample_rate','bit_depth'])"
      ],
      "execution_count": null,
      "outputs": []
    },
    {
      "cell_type": "code",
      "metadata": {
        "colab": {
          "base_uri": "https://localhost:8080/",
          "height": 802
        },
        "id": "Pe-Ia2DBpCsE",
        "outputId": "e9e127d4-5088-4c0e-c8a8-2f8298ac78f5"
      },
      "source": [
        "audiodf"
      ],
      "execution_count": null,
      "outputs": [
        {
          "output_type": "execute_result",
          "data": {
            "text/plain": [
              "    num_channels  sample_rate  bit_depth\n",
              "0             80   1886928700      25954\n",
              "1             80   1886928700      25954\n",
              "2             80   1886928700      25954\n",
              "3             80   1886928700      25954\n",
              "4             80   1886928700      25954\n",
              "5             80   1886928700      25954\n",
              "6             80   1886928700      25954\n",
              "7             80   1886928700      25954\n",
              "8             80   1886928700      25954\n",
              "9             80   1886928700      25954\n",
              "10            80   1886928700      25954\n",
              "11            80   1886928700      25954\n",
              "12            80   1886928700      25954\n",
              "13            80   1886928700      25954\n",
              "14            80   1886928700      25954\n",
              "15            80   1886928700      25954\n",
              "16            80   1886928700      25954\n",
              "17            80   1886928700      25954\n",
              "18            80   1886928700      25954\n",
              "19            80   1886928700      25954\n",
              "20            80   1886928700      25954\n",
              "21            80   1886928700      25954\n",
              "22            80   1886928700      25954\n",
              "23            80   1886928700      25954"
            ],
            "text/html": [
              "\n",
              "  <div id=\"df-18082d5f-e105-4325-803f-9a24d4df181a\">\n",
              "    <div class=\"colab-df-container\">\n",
              "      <div>\n",
              "<style scoped>\n",
              "    .dataframe tbody tr th:only-of-type {\n",
              "        vertical-align: middle;\n",
              "    }\n",
              "\n",
              "    .dataframe tbody tr th {\n",
              "        vertical-align: top;\n",
              "    }\n",
              "\n",
              "    .dataframe thead th {\n",
              "        text-align: right;\n",
              "    }\n",
              "</style>\n",
              "<table border=\"1\" class=\"dataframe\">\n",
              "  <thead>\n",
              "    <tr style=\"text-align: right;\">\n",
              "      <th></th>\n",
              "      <th>num_channels</th>\n",
              "      <th>sample_rate</th>\n",
              "      <th>bit_depth</th>\n",
              "    </tr>\n",
              "  </thead>\n",
              "  <tbody>\n",
              "    <tr>\n",
              "      <th>0</th>\n",
              "      <td>80</td>\n",
              "      <td>1886928700</td>\n",
              "      <td>25954</td>\n",
              "    </tr>\n",
              "    <tr>\n",
              "      <th>1</th>\n",
              "      <td>80</td>\n",
              "      <td>1886928700</td>\n",
              "      <td>25954</td>\n",
              "    </tr>\n",
              "    <tr>\n",
              "      <th>2</th>\n",
              "      <td>80</td>\n",
              "      <td>1886928700</td>\n",
              "      <td>25954</td>\n",
              "    </tr>\n",
              "    <tr>\n",
              "      <th>3</th>\n",
              "      <td>80</td>\n",
              "      <td>1886928700</td>\n",
              "      <td>25954</td>\n",
              "    </tr>\n",
              "    <tr>\n",
              "      <th>4</th>\n",
              "      <td>80</td>\n",
              "      <td>1886928700</td>\n",
              "      <td>25954</td>\n",
              "    </tr>\n",
              "    <tr>\n",
              "      <th>5</th>\n",
              "      <td>80</td>\n",
              "      <td>1886928700</td>\n",
              "      <td>25954</td>\n",
              "    </tr>\n",
              "    <tr>\n",
              "      <th>6</th>\n",
              "      <td>80</td>\n",
              "      <td>1886928700</td>\n",
              "      <td>25954</td>\n",
              "    </tr>\n",
              "    <tr>\n",
              "      <th>7</th>\n",
              "      <td>80</td>\n",
              "      <td>1886928700</td>\n",
              "      <td>25954</td>\n",
              "    </tr>\n",
              "    <tr>\n",
              "      <th>8</th>\n",
              "      <td>80</td>\n",
              "      <td>1886928700</td>\n",
              "      <td>25954</td>\n",
              "    </tr>\n",
              "    <tr>\n",
              "      <th>9</th>\n",
              "      <td>80</td>\n",
              "      <td>1886928700</td>\n",
              "      <td>25954</td>\n",
              "    </tr>\n",
              "    <tr>\n",
              "      <th>10</th>\n",
              "      <td>80</td>\n",
              "      <td>1886928700</td>\n",
              "      <td>25954</td>\n",
              "    </tr>\n",
              "    <tr>\n",
              "      <th>11</th>\n",
              "      <td>80</td>\n",
              "      <td>1886928700</td>\n",
              "      <td>25954</td>\n",
              "    </tr>\n",
              "    <tr>\n",
              "      <th>12</th>\n",
              "      <td>80</td>\n",
              "      <td>1886928700</td>\n",
              "      <td>25954</td>\n",
              "    </tr>\n",
              "    <tr>\n",
              "      <th>13</th>\n",
              "      <td>80</td>\n",
              "      <td>1886928700</td>\n",
              "      <td>25954</td>\n",
              "    </tr>\n",
              "    <tr>\n",
              "      <th>14</th>\n",
              "      <td>80</td>\n",
              "      <td>1886928700</td>\n",
              "      <td>25954</td>\n",
              "    </tr>\n",
              "    <tr>\n",
              "      <th>15</th>\n",
              "      <td>80</td>\n",
              "      <td>1886928700</td>\n",
              "      <td>25954</td>\n",
              "    </tr>\n",
              "    <tr>\n",
              "      <th>16</th>\n",
              "      <td>80</td>\n",
              "      <td>1886928700</td>\n",
              "      <td>25954</td>\n",
              "    </tr>\n",
              "    <tr>\n",
              "      <th>17</th>\n",
              "      <td>80</td>\n",
              "      <td>1886928700</td>\n",
              "      <td>25954</td>\n",
              "    </tr>\n",
              "    <tr>\n",
              "      <th>18</th>\n",
              "      <td>80</td>\n",
              "      <td>1886928700</td>\n",
              "      <td>25954</td>\n",
              "    </tr>\n",
              "    <tr>\n",
              "      <th>19</th>\n",
              "      <td>80</td>\n",
              "      <td>1886928700</td>\n",
              "      <td>25954</td>\n",
              "    </tr>\n",
              "    <tr>\n",
              "      <th>20</th>\n",
              "      <td>80</td>\n",
              "      <td>1886928700</td>\n",
              "      <td>25954</td>\n",
              "    </tr>\n",
              "    <tr>\n",
              "      <th>21</th>\n",
              "      <td>80</td>\n",
              "      <td>1886928700</td>\n",
              "      <td>25954</td>\n",
              "    </tr>\n",
              "    <tr>\n",
              "      <th>22</th>\n",
              "      <td>80</td>\n",
              "      <td>1886928700</td>\n",
              "      <td>25954</td>\n",
              "    </tr>\n",
              "    <tr>\n",
              "      <th>23</th>\n",
              "      <td>80</td>\n",
              "      <td>1886928700</td>\n",
              "      <td>25954</td>\n",
              "    </tr>\n",
              "  </tbody>\n",
              "</table>\n",
              "</div>\n",
              "      <button class=\"colab-df-convert\" onclick=\"convertToInteractive('df-18082d5f-e105-4325-803f-9a24d4df181a')\"\n",
              "              title=\"Convert this dataframe to an interactive table.\"\n",
              "              style=\"display:none;\">\n",
              "        \n",
              "  <svg xmlns=\"http://www.w3.org/2000/svg\" height=\"24px\"viewBox=\"0 0 24 24\"\n",
              "       width=\"24px\">\n",
              "    <path d=\"M0 0h24v24H0V0z\" fill=\"none\"/>\n",
              "    <path d=\"M18.56 5.44l.94 2.06.94-2.06 2.06-.94-2.06-.94-.94-2.06-.94 2.06-2.06.94zm-11 1L8.5 8.5l.94-2.06 2.06-.94-2.06-.94L8.5 2.5l-.94 2.06-2.06.94zm10 10l.94 2.06.94-2.06 2.06-.94-2.06-.94-.94-2.06-.94 2.06-2.06.94z\"/><path d=\"M17.41 7.96l-1.37-1.37c-.4-.4-.92-.59-1.43-.59-.52 0-1.04.2-1.43.59L10.3 9.45l-7.72 7.72c-.78.78-.78 2.05 0 2.83L4 21.41c.39.39.9.59 1.41.59.51 0 1.02-.2 1.41-.59l7.78-7.78 2.81-2.81c.8-.78.8-2.07 0-2.86zM5.41 20L4 18.59l7.72-7.72 1.47 1.35L5.41 20z\"/>\n",
              "  </svg>\n",
              "      </button>\n",
              "      \n",
              "  <style>\n",
              "    .colab-df-container {\n",
              "      display:flex;\n",
              "      flex-wrap:wrap;\n",
              "      gap: 12px;\n",
              "    }\n",
              "\n",
              "    .colab-df-convert {\n",
              "      background-color: #E8F0FE;\n",
              "      border: none;\n",
              "      border-radius: 50%;\n",
              "      cursor: pointer;\n",
              "      display: none;\n",
              "      fill: #1967D2;\n",
              "      height: 32px;\n",
              "      padding: 0 0 0 0;\n",
              "      width: 32px;\n",
              "    }\n",
              "\n",
              "    .colab-df-convert:hover {\n",
              "      background-color: #E2EBFA;\n",
              "      box-shadow: 0px 1px 2px rgba(60, 64, 67, 0.3), 0px 1px 3px 1px rgba(60, 64, 67, 0.15);\n",
              "      fill: #174EA6;\n",
              "    }\n",
              "\n",
              "    [theme=dark] .colab-df-convert {\n",
              "      background-color: #3B4455;\n",
              "      fill: #D2E3FC;\n",
              "    }\n",
              "\n",
              "    [theme=dark] .colab-df-convert:hover {\n",
              "      background-color: #434B5C;\n",
              "      box-shadow: 0px 1px 3px 1px rgba(0, 0, 0, 0.15);\n",
              "      filter: drop-shadow(0px 1px 2px rgba(0, 0, 0, 0.3));\n",
              "      fill: #FFFFFF;\n",
              "    }\n",
              "  </style>\n",
              "\n",
              "      <script>\n",
              "        const buttonEl =\n",
              "          document.querySelector('#df-18082d5f-e105-4325-803f-9a24d4df181a button.colab-df-convert');\n",
              "        buttonEl.style.display =\n",
              "          google.colab.kernel.accessAllowed ? 'block' : 'none';\n",
              "\n",
              "        async function convertToInteractive(key) {\n",
              "          const element = document.querySelector('#df-18082d5f-e105-4325-803f-9a24d4df181a');\n",
              "          const dataTable =\n",
              "            await google.colab.kernel.invokeFunction('convertToInteractive',\n",
              "                                                     [key], {});\n",
              "          if (!dataTable) return;\n",
              "\n",
              "          const docLinkHtml = 'Like what you see? Visit the ' +\n",
              "            '<a target=\"_blank\" href=https://colab.research.google.com/notebooks/data_table.ipynb>data table notebook</a>'\n",
              "            + ' to learn more about interactive tables.';\n",
              "          element.innerHTML = '';\n",
              "          dataTable['output_type'] = 'display_data';\n",
              "          await google.colab.output.renderOutput(dataTable, element);\n",
              "          const docLink = document.createElement('div');\n",
              "          docLink.innerHTML = docLinkHtml;\n",
              "          element.appendChild(docLink);\n",
              "        }\n",
              "      </script>\n",
              "    </div>\n",
              "  </div>\n",
              "  "
            ]
          },
          "metadata": {},
          "execution_count": 92
        }
      ]
    },
    {
      "cell_type": "code",
      "metadata": {
        "id": "nU6YgdOhlhQe"
      },
      "source": [
        "def extract_features(file_name):\n",
        "   \n",
        "    try:\n",
        "        audio, sample_rate = librosa.load(file_name, res_type='kaiser_fast') \n",
        "        mfccs = librosa.feature.mfcc(y=audio, sr=sample_rate, n_mfcc=40)\n",
        "        mfccsscaled = np.mean(mfccs.T,axis=0)\n",
        "        \n",
        "    except Exception as e:\n",
        "        print(\"Error encountered while parsing file: \", file)\n",
        "        return None \n",
        "     \n",
        "    return mfccsscaled"
      ],
      "execution_count": null,
      "outputs": []
    },
    {
      "cell_type": "code",
      "metadata": {
        "colab": {
          "base_uri": "https://localhost:8080/",
          "height": 36
        },
        "id": "-1k6U-_Pl47H",
        "outputId": "a2ee392a-8945-4607-fe92-c4868ce609dd"
      },
      "source": [
        "murai_data.sound[0]"
      ],
      "execution_count": null,
      "outputs": [
        {
          "output_type": "execute_result",
          "data": {
            "text/plain": [
              "'/content/gdrive/MyDrive/Manuk/Bagus/Ba1.mp3'"
            ],
            "application/vnd.google.colaboratory.intrinsic+json": {
              "type": "string"
            }
          },
          "metadata": {},
          "execution_count": 94
        }
      ]
    },
    {
      "cell_type": "code",
      "metadata": {
        "colab": {
          "base_uri": "https://localhost:8080/"
        },
        "id": "Hts80uWClxKR",
        "outputId": "72c18281-6b5c-431e-9f05-c2279e863b9d"
      },
      "source": [
        "extract_features(murai_data.sound[10])"
      ],
      "execution_count": null,
      "outputs": [
        {
          "output_type": "stream",
          "name": "stderr",
          "text": [
            "/usr/local/lib/python3.7/dist-packages/librosa/core/audio.py:165: UserWarning: PySoundFile failed. Trying audioread instead.\n",
            "  warnings.warn(\"PySoundFile failed. Trying audioread instead.\")\n"
          ]
        },
        {
          "output_type": "execute_result",
          "data": {
            "text/plain": [
              "array([-166.34642   ,    1.3136122 ,  -65.75676   ,   50.90616   ,\n",
              "         -0.8764656 ,   14.79018   ,  -36.55962   ,   11.18795   ,\n",
              "        -10.765559  ,   12.371364  ,  -14.7547245 ,  -12.460459  ,\n",
              "        -11.705657  ,   16.239044  ,  -22.33609   ,   -2.9580374 ,\n",
              "          0.5048756 ,   13.791037  ,  -17.796085  ,    6.9766583 ,\n",
              "         -0.37322783,   -6.2661357 ,   -9.05901   ,   -2.48803   ,\n",
              "         -5.41554   ,    0.89878726,   -4.690887  ,   -4.838975  ,\n",
              "         -1.0872003 ,    2.9900174 ,   -7.3149147 ,   -2.758997  ,\n",
              "          1.149221  ,   -1.7797022 ,    0.27465588,   -1.5589855 ,\n",
              "         -1.9978175 ,    2.439982  ,    1.8009502 ,   -4.487055  ],\n",
              "      dtype=float32)"
            ]
          },
          "metadata": {},
          "execution_count": 95
        }
      ]
    },
    {
      "cell_type": "code",
      "metadata": {
        "colab": {
          "base_uri": "https://localhost:8080/"
        },
        "id": "Kpmzdn2jpRiC",
        "outputId": "241d2c2a-5a7e-4ea4-82d4-b56ee0322ee7"
      },
      "source": [
        "features = []\n",
        "for index, row in murai_data.iterrows():\n",
        "    \n",
        "    file_name = row['sound']\n",
        "    class_label = row[\"target\"]\n",
        "    data = extract_features(file_name)\n",
        "    \n",
        "    features.append([data, class_label])\n",
        "\n",
        "# Convert into a Panda dataframe \n",
        "featuresdf = pd.DataFrame(features, columns=['feature','class_label'])\n",
        "\n",
        "print('Finished feature extraction from ', len(featuresdf), ' files')\n"
      ],
      "execution_count": null,
      "outputs": [
        {
          "output_type": "stream",
          "name": "stderr",
          "text": [
            "/usr/local/lib/python3.7/dist-packages/librosa/core/audio.py:165: UserWarning: PySoundFile failed. Trying audioread instead.\n",
            "  warnings.warn(\"PySoundFile failed. Trying audioread instead.\")\n",
            "/usr/local/lib/python3.7/dist-packages/librosa/core/audio.py:165: UserWarning: PySoundFile failed. Trying audioread instead.\n",
            "  warnings.warn(\"PySoundFile failed. Trying audioread instead.\")\n",
            "/usr/local/lib/python3.7/dist-packages/librosa/core/audio.py:165: UserWarning: PySoundFile failed. Trying audioread instead.\n",
            "  warnings.warn(\"PySoundFile failed. Trying audioread instead.\")\n",
            "/usr/local/lib/python3.7/dist-packages/librosa/core/audio.py:165: UserWarning: PySoundFile failed. Trying audioread instead.\n",
            "  warnings.warn(\"PySoundFile failed. Trying audioread instead.\")\n",
            "/usr/local/lib/python3.7/dist-packages/librosa/core/audio.py:165: UserWarning: PySoundFile failed. Trying audioread instead.\n",
            "  warnings.warn(\"PySoundFile failed. Trying audioread instead.\")\n",
            "/usr/local/lib/python3.7/dist-packages/librosa/core/audio.py:165: UserWarning: PySoundFile failed. Trying audioread instead.\n",
            "  warnings.warn(\"PySoundFile failed. Trying audioread instead.\")\n",
            "/usr/local/lib/python3.7/dist-packages/librosa/core/audio.py:165: UserWarning: PySoundFile failed. Trying audioread instead.\n",
            "  warnings.warn(\"PySoundFile failed. Trying audioread instead.\")\n",
            "/usr/local/lib/python3.7/dist-packages/librosa/core/audio.py:165: UserWarning: PySoundFile failed. Trying audioread instead.\n",
            "  warnings.warn(\"PySoundFile failed. Trying audioread instead.\")\n",
            "/usr/local/lib/python3.7/dist-packages/librosa/core/audio.py:165: UserWarning: PySoundFile failed. Trying audioread instead.\n",
            "  warnings.warn(\"PySoundFile failed. Trying audioread instead.\")\n",
            "/usr/local/lib/python3.7/dist-packages/librosa/core/audio.py:165: UserWarning: PySoundFile failed. Trying audioread instead.\n",
            "  warnings.warn(\"PySoundFile failed. Trying audioread instead.\")\n",
            "/usr/local/lib/python3.7/dist-packages/librosa/core/audio.py:165: UserWarning: PySoundFile failed. Trying audioread instead.\n",
            "  warnings.warn(\"PySoundFile failed. Trying audioread instead.\")\n",
            "/usr/local/lib/python3.7/dist-packages/librosa/core/audio.py:165: UserWarning: PySoundFile failed. Trying audioread instead.\n",
            "  warnings.warn(\"PySoundFile failed. Trying audioread instead.\")\n",
            "/usr/local/lib/python3.7/dist-packages/librosa/core/audio.py:165: UserWarning: PySoundFile failed. Trying audioread instead.\n",
            "  warnings.warn(\"PySoundFile failed. Trying audioread instead.\")\n",
            "/usr/local/lib/python3.7/dist-packages/librosa/core/audio.py:165: UserWarning: PySoundFile failed. Trying audioread instead.\n",
            "  warnings.warn(\"PySoundFile failed. Trying audioread instead.\")\n",
            "/usr/local/lib/python3.7/dist-packages/librosa/core/audio.py:165: UserWarning: PySoundFile failed. Trying audioread instead.\n",
            "  warnings.warn(\"PySoundFile failed. Trying audioread instead.\")\n",
            "/usr/local/lib/python3.7/dist-packages/librosa/core/audio.py:165: UserWarning: PySoundFile failed. Trying audioread instead.\n",
            "  warnings.warn(\"PySoundFile failed. Trying audioread instead.\")\n",
            "/usr/local/lib/python3.7/dist-packages/librosa/core/audio.py:165: UserWarning: PySoundFile failed. Trying audioread instead.\n",
            "  warnings.warn(\"PySoundFile failed. Trying audioread instead.\")\n",
            "/usr/local/lib/python3.7/dist-packages/librosa/core/audio.py:165: UserWarning: PySoundFile failed. Trying audioread instead.\n",
            "  warnings.warn(\"PySoundFile failed. Trying audioread instead.\")\n",
            "/usr/local/lib/python3.7/dist-packages/librosa/core/audio.py:165: UserWarning: PySoundFile failed. Trying audioread instead.\n",
            "  warnings.warn(\"PySoundFile failed. Trying audioread instead.\")\n",
            "/usr/local/lib/python3.7/dist-packages/librosa/core/audio.py:165: UserWarning: PySoundFile failed. Trying audioread instead.\n",
            "  warnings.warn(\"PySoundFile failed. Trying audioread instead.\")\n",
            "/usr/local/lib/python3.7/dist-packages/librosa/core/audio.py:165: UserWarning: PySoundFile failed. Trying audioread instead.\n",
            "  warnings.warn(\"PySoundFile failed. Trying audioread instead.\")\n",
            "/usr/local/lib/python3.7/dist-packages/librosa/core/audio.py:165: UserWarning: PySoundFile failed. Trying audioread instead.\n",
            "  warnings.warn(\"PySoundFile failed. Trying audioread instead.\")\n",
            "/usr/local/lib/python3.7/dist-packages/librosa/core/audio.py:165: UserWarning: PySoundFile failed. Trying audioread instead.\n",
            "  warnings.warn(\"PySoundFile failed. Trying audioread instead.\")\n",
            "/usr/local/lib/python3.7/dist-packages/librosa/core/audio.py:165: UserWarning: PySoundFile failed. Trying audioread instead.\n",
            "  warnings.warn(\"PySoundFile failed. Trying audioread instead.\")\n"
          ]
        },
        {
          "output_type": "stream",
          "name": "stdout",
          "text": [
            "Finished feature extraction from  24  files\n"
          ]
        }
      ]
    },
    {
      "cell_type": "code",
      "metadata": {
        "colab": {
          "base_uri": "https://localhost:8080/",
          "height": 802
        },
        "id": "YuxLV91aqJyq",
        "outputId": "c0555fdf-ec58-4af4-e42a-663b33020242"
      },
      "source": [
        "featuresdf"
      ],
      "execution_count": null,
      "outputs": [
        {
          "output_type": "execute_result",
          "data": {
            "text/plain": [
              "                                              feature class_label\n",
              "0   [-187.88477, 44.13798, -54.129726, 41.633205, ...       Bagus\n",
              "1   [-192.4626, 1.9574467, -52.57142, 47.083733, -...       Bagus\n",
              "2   [-213.42674, 22.90789, -45.894737, 16.328354, ...       Bagus\n",
              "3   [-181.82391, 12.879874, -50.70747, 69.870094, ...       Bagus\n",
              "4   [-156.2501, 9.570025, -80.8352, 77.34861, 6.63...       Bagus\n",
              "5   [-218.62941, 21.54761, -44.80174, 17.571419, 7...       Bagus\n",
              "6   [-173.94276, -2.613589, -57.038826, 53.78522, ...       Bagus\n",
              "7   [-198.5053, -9.341432, -55.25323, 67.56275, -1...       Bagus\n",
              "8   [-235.80064, 6.3009768, -99.96067, -2.1391428,...       Bagus\n",
              "9   [-162.49442, 40.94901, -66.75569, 37.077366, -...       Bagus\n",
              "10  [-166.34642, 1.3136122, -65.75676, 50.90616, -...       Bagus\n",
              "11  [-181.72057, -3.6974058, -56.334167, 53.958813...       Bagus\n",
              "12  [-226.46497, -52.306866, -55.53951, 68.107, 4....       Biasa\n",
              "13  [-160.51921, 22.610958, -72.420235, -22.374363...       Biasa\n",
              "14  [-156.61621, 40.421314, -62.67002, 17.263927, ...       Biasa\n",
              "15  [-240.13342, 109.24133, -73.65838, -22.06552, ...       Biasa\n",
              "16  [-193.75218, 84.01125, -50.588375, 0.64402336,...       Biasa\n",
              "17  [-272.7567, -10.214941, -64.13126, 21.254885, ...       Biasa\n",
              "18  [-198.74442, 52.533825, -61.56109, 0.66666484,...       Biasa\n",
              "19  [-257.09186, 8.093389, -87.975845, 22.101736, ...       Biasa\n",
              "20  [-349.72958, 29.997013, -85.14589, 4.262154, 2...       Biasa\n",
              "21  [-205.95515, -57.38275, -53.77191, 73.0043, -1...       Biasa\n",
              "22  [-163.84909, 20.624306, -71.48919, -22.099539,...       Biasa\n",
              "23  [-177.4616, 58.902664, -66.96018, -9.496741, -...       Biasa"
            ],
            "text/html": [
              "\n",
              "  <div id=\"df-19a5b3f4-43fe-4923-b6ed-58e5b8366503\">\n",
              "    <div class=\"colab-df-container\">\n",
              "      <div>\n",
              "<style scoped>\n",
              "    .dataframe tbody tr th:only-of-type {\n",
              "        vertical-align: middle;\n",
              "    }\n",
              "\n",
              "    .dataframe tbody tr th {\n",
              "        vertical-align: top;\n",
              "    }\n",
              "\n",
              "    .dataframe thead th {\n",
              "        text-align: right;\n",
              "    }\n",
              "</style>\n",
              "<table border=\"1\" class=\"dataframe\">\n",
              "  <thead>\n",
              "    <tr style=\"text-align: right;\">\n",
              "      <th></th>\n",
              "      <th>feature</th>\n",
              "      <th>class_label</th>\n",
              "    </tr>\n",
              "  </thead>\n",
              "  <tbody>\n",
              "    <tr>\n",
              "      <th>0</th>\n",
              "      <td>[-187.88477, 44.13798, -54.129726, 41.633205, ...</td>\n",
              "      <td>Bagus</td>\n",
              "    </tr>\n",
              "    <tr>\n",
              "      <th>1</th>\n",
              "      <td>[-192.4626, 1.9574467, -52.57142, 47.083733, -...</td>\n",
              "      <td>Bagus</td>\n",
              "    </tr>\n",
              "    <tr>\n",
              "      <th>2</th>\n",
              "      <td>[-213.42674, 22.90789, -45.894737, 16.328354, ...</td>\n",
              "      <td>Bagus</td>\n",
              "    </tr>\n",
              "    <tr>\n",
              "      <th>3</th>\n",
              "      <td>[-181.82391, 12.879874, -50.70747, 69.870094, ...</td>\n",
              "      <td>Bagus</td>\n",
              "    </tr>\n",
              "    <tr>\n",
              "      <th>4</th>\n",
              "      <td>[-156.2501, 9.570025, -80.8352, 77.34861, 6.63...</td>\n",
              "      <td>Bagus</td>\n",
              "    </tr>\n",
              "    <tr>\n",
              "      <th>5</th>\n",
              "      <td>[-218.62941, 21.54761, -44.80174, 17.571419, 7...</td>\n",
              "      <td>Bagus</td>\n",
              "    </tr>\n",
              "    <tr>\n",
              "      <th>6</th>\n",
              "      <td>[-173.94276, -2.613589, -57.038826, 53.78522, ...</td>\n",
              "      <td>Bagus</td>\n",
              "    </tr>\n",
              "    <tr>\n",
              "      <th>7</th>\n",
              "      <td>[-198.5053, -9.341432, -55.25323, 67.56275, -1...</td>\n",
              "      <td>Bagus</td>\n",
              "    </tr>\n",
              "    <tr>\n",
              "      <th>8</th>\n",
              "      <td>[-235.80064, 6.3009768, -99.96067, -2.1391428,...</td>\n",
              "      <td>Bagus</td>\n",
              "    </tr>\n",
              "    <tr>\n",
              "      <th>9</th>\n",
              "      <td>[-162.49442, 40.94901, -66.75569, 37.077366, -...</td>\n",
              "      <td>Bagus</td>\n",
              "    </tr>\n",
              "    <tr>\n",
              "      <th>10</th>\n",
              "      <td>[-166.34642, 1.3136122, -65.75676, 50.90616, -...</td>\n",
              "      <td>Bagus</td>\n",
              "    </tr>\n",
              "    <tr>\n",
              "      <th>11</th>\n",
              "      <td>[-181.72057, -3.6974058, -56.334167, 53.958813...</td>\n",
              "      <td>Bagus</td>\n",
              "    </tr>\n",
              "    <tr>\n",
              "      <th>12</th>\n",
              "      <td>[-226.46497, -52.306866, -55.53951, 68.107, 4....</td>\n",
              "      <td>Biasa</td>\n",
              "    </tr>\n",
              "    <tr>\n",
              "      <th>13</th>\n",
              "      <td>[-160.51921, 22.610958, -72.420235, -22.374363...</td>\n",
              "      <td>Biasa</td>\n",
              "    </tr>\n",
              "    <tr>\n",
              "      <th>14</th>\n",
              "      <td>[-156.61621, 40.421314, -62.67002, 17.263927, ...</td>\n",
              "      <td>Biasa</td>\n",
              "    </tr>\n",
              "    <tr>\n",
              "      <th>15</th>\n",
              "      <td>[-240.13342, 109.24133, -73.65838, -22.06552, ...</td>\n",
              "      <td>Biasa</td>\n",
              "    </tr>\n",
              "    <tr>\n",
              "      <th>16</th>\n",
              "      <td>[-193.75218, 84.01125, -50.588375, 0.64402336,...</td>\n",
              "      <td>Biasa</td>\n",
              "    </tr>\n",
              "    <tr>\n",
              "      <th>17</th>\n",
              "      <td>[-272.7567, -10.214941, -64.13126, 21.254885, ...</td>\n",
              "      <td>Biasa</td>\n",
              "    </tr>\n",
              "    <tr>\n",
              "      <th>18</th>\n",
              "      <td>[-198.74442, 52.533825, -61.56109, 0.66666484,...</td>\n",
              "      <td>Biasa</td>\n",
              "    </tr>\n",
              "    <tr>\n",
              "      <th>19</th>\n",
              "      <td>[-257.09186, 8.093389, -87.975845, 22.101736, ...</td>\n",
              "      <td>Biasa</td>\n",
              "    </tr>\n",
              "    <tr>\n",
              "      <th>20</th>\n",
              "      <td>[-349.72958, 29.997013, -85.14589, 4.262154, 2...</td>\n",
              "      <td>Biasa</td>\n",
              "    </tr>\n",
              "    <tr>\n",
              "      <th>21</th>\n",
              "      <td>[-205.95515, -57.38275, -53.77191, 73.0043, -1...</td>\n",
              "      <td>Biasa</td>\n",
              "    </tr>\n",
              "    <tr>\n",
              "      <th>22</th>\n",
              "      <td>[-163.84909, 20.624306, -71.48919, -22.099539,...</td>\n",
              "      <td>Biasa</td>\n",
              "    </tr>\n",
              "    <tr>\n",
              "      <th>23</th>\n",
              "      <td>[-177.4616, 58.902664, -66.96018, -9.496741, -...</td>\n",
              "      <td>Biasa</td>\n",
              "    </tr>\n",
              "  </tbody>\n",
              "</table>\n",
              "</div>\n",
              "      <button class=\"colab-df-convert\" onclick=\"convertToInteractive('df-19a5b3f4-43fe-4923-b6ed-58e5b8366503')\"\n",
              "              title=\"Convert this dataframe to an interactive table.\"\n",
              "              style=\"display:none;\">\n",
              "        \n",
              "  <svg xmlns=\"http://www.w3.org/2000/svg\" height=\"24px\"viewBox=\"0 0 24 24\"\n",
              "       width=\"24px\">\n",
              "    <path d=\"M0 0h24v24H0V0z\" fill=\"none\"/>\n",
              "    <path d=\"M18.56 5.44l.94 2.06.94-2.06 2.06-.94-2.06-.94-.94-2.06-.94 2.06-2.06.94zm-11 1L8.5 8.5l.94-2.06 2.06-.94-2.06-.94L8.5 2.5l-.94 2.06-2.06.94zm10 10l.94 2.06.94-2.06 2.06-.94-2.06-.94-.94-2.06-.94 2.06-2.06.94z\"/><path d=\"M17.41 7.96l-1.37-1.37c-.4-.4-.92-.59-1.43-.59-.52 0-1.04.2-1.43.59L10.3 9.45l-7.72 7.72c-.78.78-.78 2.05 0 2.83L4 21.41c.39.39.9.59 1.41.59.51 0 1.02-.2 1.41-.59l7.78-7.78 2.81-2.81c.8-.78.8-2.07 0-2.86zM5.41 20L4 18.59l7.72-7.72 1.47 1.35L5.41 20z\"/>\n",
              "  </svg>\n",
              "      </button>\n",
              "      \n",
              "  <style>\n",
              "    .colab-df-container {\n",
              "      display:flex;\n",
              "      flex-wrap:wrap;\n",
              "      gap: 12px;\n",
              "    }\n",
              "\n",
              "    .colab-df-convert {\n",
              "      background-color: #E8F0FE;\n",
              "      border: none;\n",
              "      border-radius: 50%;\n",
              "      cursor: pointer;\n",
              "      display: none;\n",
              "      fill: #1967D2;\n",
              "      height: 32px;\n",
              "      padding: 0 0 0 0;\n",
              "      width: 32px;\n",
              "    }\n",
              "\n",
              "    .colab-df-convert:hover {\n",
              "      background-color: #E2EBFA;\n",
              "      box-shadow: 0px 1px 2px rgba(60, 64, 67, 0.3), 0px 1px 3px 1px rgba(60, 64, 67, 0.15);\n",
              "      fill: #174EA6;\n",
              "    }\n",
              "\n",
              "    [theme=dark] .colab-df-convert {\n",
              "      background-color: #3B4455;\n",
              "      fill: #D2E3FC;\n",
              "    }\n",
              "\n",
              "    [theme=dark] .colab-df-convert:hover {\n",
              "      background-color: #434B5C;\n",
              "      box-shadow: 0px 1px 3px 1px rgba(0, 0, 0, 0.15);\n",
              "      filter: drop-shadow(0px 1px 2px rgba(0, 0, 0, 0.3));\n",
              "      fill: #FFFFFF;\n",
              "    }\n",
              "  </style>\n",
              "\n",
              "      <script>\n",
              "        const buttonEl =\n",
              "          document.querySelector('#df-19a5b3f4-43fe-4923-b6ed-58e5b8366503 button.colab-df-convert');\n",
              "        buttonEl.style.display =\n",
              "          google.colab.kernel.accessAllowed ? 'block' : 'none';\n",
              "\n",
              "        async function convertToInteractive(key) {\n",
              "          const element = document.querySelector('#df-19a5b3f4-43fe-4923-b6ed-58e5b8366503');\n",
              "          const dataTable =\n",
              "            await google.colab.kernel.invokeFunction('convertToInteractive',\n",
              "                                                     [key], {});\n",
              "          if (!dataTable) return;\n",
              "\n",
              "          const docLinkHtml = 'Like what you see? Visit the ' +\n",
              "            '<a target=\"_blank\" href=https://colab.research.google.com/notebooks/data_table.ipynb>data table notebook</a>'\n",
              "            + ' to learn more about interactive tables.';\n",
              "          element.innerHTML = '';\n",
              "          dataTable['output_type'] = 'display_data';\n",
              "          await google.colab.output.renderOutput(dataTable, element);\n",
              "          const docLink = document.createElement('div');\n",
              "          docLink.innerHTML = docLinkHtml;\n",
              "          element.appendChild(docLink);\n",
              "        }\n",
              "      </script>\n",
              "    </div>\n",
              "  </div>\n",
              "  "
            ]
          },
          "metadata": {},
          "execution_count": 97
        }
      ]
    },
    {
      "cell_type": "markdown",
      "metadata": {
        "id": "BQoW4VQQ9GRX"
      },
      "source": [
        "## ANN"
      ]
    },
    {
      "cell_type": "code",
      "metadata": {
        "id": "IP8RaR4zqaM-"
      },
      "source": [
        "from sklearn.preprocessing import LabelEncoder\n",
        "from tensorflow.keras.utils import to_categorical\n",
        "\n",
        "# Convert features and corresponding classification labels into numpy arrays\n",
        "X = np.array(featuresdf.feature.tolist())\n",
        "y = np.array(featuresdf.class_label.tolist())\n",
        "\n",
        "# Encode the classification labels\n",
        "le = LabelEncoder()\n",
        "yy = to_categorical(le.fit_transform(y)) "
      ],
      "execution_count": null,
      "outputs": []
    },
    {
      "cell_type": "code",
      "metadata": {
        "colab": {
          "base_uri": "https://localhost:8080/"
        },
        "id": "tuSH34sltJQT",
        "outputId": "f94a7272-caed-4276-cdfa-fca27accd522"
      },
      "source": [
        "X.shape"
      ],
      "execution_count": null,
      "outputs": [
        {
          "output_type": "execute_result",
          "data": {
            "text/plain": [
              "(24, 40)"
            ]
          },
          "metadata": {},
          "execution_count": 99
        }
      ]
    },
    {
      "cell_type": "code",
      "metadata": {
        "id": "YRrQaZOstqGI"
      },
      "source": [
        "num_rows = 40\n",
        "num_columns = 1\n",
        "num_channels = 1\n",
        "\n",
        "X_train = X.reshape(X.shape[0], num_rows, num_channels)"
      ],
      "execution_count": null,
      "outputs": []
    },
    {
      "cell_type": "code",
      "metadata": {
        "colab": {
          "base_uri": "https://localhost:8080/"
        },
        "id": "-5935YXHtrbz",
        "outputId": "b0298994-4ad3-44f3-fea8-84235fb58423"
      },
      "source": [
        "X_train.shape"
      ],
      "execution_count": null,
      "outputs": [
        {
          "output_type": "execute_result",
          "data": {
            "text/plain": [
              "(24, 40, 1)"
            ]
          },
          "metadata": {},
          "execution_count": 101
        }
      ]
    },
    {
      "cell_type": "code",
      "metadata": {
        "colab": {
          "base_uri": "https://localhost:8080/"
        },
        "id": "J-kQ1x31rdoj",
        "outputId": "12700429-4b73-486a-8293-b9ff25d731df"
      },
      "source": [
        "yy"
      ],
      "execution_count": null,
      "outputs": [
        {
          "output_type": "execute_result",
          "data": {
            "text/plain": [
              "array([[1., 0.],\n",
              "       [1., 0.],\n",
              "       [1., 0.],\n",
              "       [1., 0.],\n",
              "       [1., 0.],\n",
              "       [1., 0.],\n",
              "       [1., 0.],\n",
              "       [1., 0.],\n",
              "       [1., 0.],\n",
              "       [1., 0.],\n",
              "       [1., 0.],\n",
              "       [1., 0.],\n",
              "       [0., 1.],\n",
              "       [0., 1.],\n",
              "       [0., 1.],\n",
              "       [0., 1.],\n",
              "       [0., 1.],\n",
              "       [0., 1.],\n",
              "       [0., 1.],\n",
              "       [0., 1.],\n",
              "       [0., 1.],\n",
              "       [0., 1.],\n",
              "       [0., 1.],\n",
              "       [0., 1.]], dtype=float32)"
            ]
          },
          "metadata": {},
          "execution_count": 102
        }
      ]
    },
    {
      "cell_type": "code",
      "metadata": {
        "id": "gFWY8wxT4Nyr"
      },
      "source": [
        "import tensorflow as tf"
      ],
      "execution_count": null,
      "outputs": []
    },
    {
      "cell_type": "code",
      "metadata": {
        "id": "NWcgyRPpqzJl"
      },
      "source": [
        "import numpy as np\n",
        "from tensorflow.keras.models import Sequential\n",
        "from tensorflow.keras.layers import Dense, Dropout, Activation, Flatten\n",
        "from tensorflow.keras.layers import Convolution2D, Conv2D, MaxPooling2D, GlobalAveragePooling2D\n",
        "from tensorflow.keras.optimizers import Adam\n",
        "from sklearn import metrics \n",
        "\n",
        "num_rows = 40\n",
        "num_columns = 1\n",
        "num_channels = 1\n",
        "\n",
        "X_train = X.reshape(X.shape[0], num_rows, num_channels)\n",
        "\n",
        "num_labels = yy.shape[1]\n",
        "filter_size = 2\n",
        "\n",
        "# Construct model \n",
        "model=Sequential()\n",
        "###first layer\n",
        "model.add(Dense(100,input_shape=(40,)))\n",
        "model.add(Activation('relu'))\n",
        "model.add(Dropout(0.5))\n",
        "###second layer\n",
        "model.add(Dense(200))\n",
        "model.add(Activation('relu'))\n",
        "model.add(Dropout(0.5))\n",
        "###third layer\n",
        "model.add(Dense(100))\n",
        "model.add(Activation('relu'))\n",
        "model.add(Dropout(0.5))\n",
        "\n",
        "###final layer\n",
        "model.add(Dense(num_labels))\n",
        "model.add(Activation('sigmoid'))"
      ],
      "execution_count": null,
      "outputs": []
    },
    {
      "cell_type": "code",
      "metadata": {
        "colab": {
          "base_uri": "https://localhost:8080/"
        },
        "id": "A4n23rzXvptx",
        "outputId": "db58e243-e571-4581-b3a3-dbf9a735ced4"
      },
      "source": [
        "\n",
        "# Compile the model\n",
        "model.compile(loss='binary_crossentropy', metrics=['accuracy'], optimizer='adam')\n",
        "\n",
        "# Display model architecture summary \n",
        "model.summary()"
      ],
      "execution_count": null,
      "outputs": [
        {
          "output_type": "stream",
          "name": "stdout",
          "text": [
            "Model: \"sequential_1\"\n",
            "_________________________________________________________________\n",
            " Layer (type)                Output Shape              Param #   \n",
            "=================================================================\n",
            " dense_4 (Dense)             (None, 100)               4100      \n",
            "                                                                 \n",
            " activation_4 (Activation)   (None, 100)               0         \n",
            "                                                                 \n",
            " dropout_3 (Dropout)         (None, 100)               0         \n",
            "                                                                 \n",
            " dense_5 (Dense)             (None, 200)               20200     \n",
            "                                                                 \n",
            " activation_5 (Activation)   (None, 200)               0         \n",
            "                                                                 \n",
            " dropout_4 (Dropout)         (None, 200)               0         \n",
            "                                                                 \n",
            " dense_6 (Dense)             (None, 100)               20100     \n",
            "                                                                 \n",
            " activation_6 (Activation)   (None, 100)               0         \n",
            "                                                                 \n",
            " dropout_5 (Dropout)         (None, 100)               0         \n",
            "                                                                 \n",
            " dense_7 (Dense)             (None, 2)                 202       \n",
            "                                                                 \n",
            " activation_7 (Activation)   (None, 2)                 0         \n",
            "                                                                 \n",
            "=================================================================\n",
            "Total params: 44,602\n",
            "Trainable params: 44,602\n",
            "Non-trainable params: 0\n",
            "_________________________________________________________________\n"
          ]
        }
      ]
    },
    {
      "cell_type": "code",
      "metadata": {
        "colab": {
          "base_uri": "https://localhost:8080/"
        },
        "id": "X9GXAgbDw6Hx",
        "outputId": "7d96efbd-e50f-4c05-89f7-a485ed6744b9"
      },
      "source": [
        "# Calculate training accuracy \n",
        "history = model.fit(X, yy, batch_size=2, epochs=50, verbose=1)"
      ],
      "execution_count": null,
      "outputs": [
        {
          "output_type": "stream",
          "name": "stdout",
          "text": [
            "Epoch 1/50\n",
            "12/12 [==============================] - 1s 3ms/step - loss: 13.0995 - accuracy: 0.3750\n",
            "Epoch 2/50\n",
            "12/12 [==============================] - 0s 3ms/step - loss: 15.3272 - accuracy: 0.3333\n",
            "Epoch 3/50\n",
            "12/12 [==============================] - 0s 2ms/step - loss: 8.4729 - accuracy: 0.4583\n",
            "Epoch 4/50\n",
            "12/12 [==============================] - 0s 3ms/step - loss: 6.0713 - accuracy: 0.6667\n",
            "Epoch 5/50\n",
            "12/12 [==============================] - 0s 2ms/step - loss: 6.1080 - accuracy: 0.6667\n",
            "Epoch 6/50\n",
            "12/12 [==============================] - 0s 3ms/step - loss: 6.0289 - accuracy: 0.7083\n",
            "Epoch 7/50\n",
            "12/12 [==============================] - 0s 3ms/step - loss: 6.7205 - accuracy: 0.5000\n",
            "Epoch 8/50\n",
            "12/12 [==============================] - 0s 2ms/step - loss: 5.8941 - accuracy: 0.6667\n",
            "Epoch 9/50\n",
            "12/12 [==============================] - 0s 3ms/step - loss: 7.1390 - accuracy: 0.7500\n",
            "Epoch 10/50\n",
            "12/12 [==============================] - 0s 2ms/step - loss: 3.7248 - accuracy: 0.7083\n",
            "Epoch 11/50\n",
            "12/12 [==============================] - 0s 3ms/step - loss: 7.7717 - accuracy: 0.5000\n",
            "Epoch 12/50\n",
            "12/12 [==============================] - 0s 3ms/step - loss: 4.8791 - accuracy: 0.7083\n",
            "Epoch 13/50\n",
            "12/12 [==============================] - 0s 3ms/step - loss: 2.9775 - accuracy: 0.7917 \n",
            "Epoch 14/50\n",
            "12/12 [==============================] - 0s 3ms/step - loss: 5.8907 - accuracy: 0.5000 \n",
            "Epoch 15/50\n",
            "12/12 [==============================] - 0s 3ms/step - loss: 4.4913 - accuracy: 0.5833\n",
            "Epoch 16/50\n",
            "12/12 [==============================] - 0s 3ms/step - loss: 3.1633 - accuracy: 0.6667\n",
            "Epoch 17/50\n",
            "12/12 [==============================] - 0s 2ms/step - loss: 2.9786 - accuracy: 0.7083\n",
            "Epoch 18/50\n",
            "12/12 [==============================] - 0s 3ms/step - loss: 3.2867 - accuracy: 0.7083\n",
            "Epoch 19/50\n",
            "12/12 [==============================] - 0s 3ms/step - loss: 2.5946 - accuracy: 0.7917\n",
            "Epoch 20/50\n",
            "12/12 [==============================] - 0s 2ms/step - loss: 1.5544 - accuracy: 0.7917\n",
            "Epoch 21/50\n",
            "12/12 [==============================] - 0s 3ms/step - loss: 3.5079 - accuracy: 0.6667\n",
            "Epoch 22/50\n",
            "12/12 [==============================] - 0s 3ms/step - loss: 0.9570 - accuracy: 0.8750\n",
            "Epoch 23/50\n",
            "12/12 [==============================] - 0s 3ms/step - loss: 2.1351 - accuracy: 0.7083\n",
            "Epoch 24/50\n",
            "12/12 [==============================] - 0s 3ms/step - loss: 1.4250 - accuracy: 0.7500\n",
            "Epoch 25/50\n",
            "12/12 [==============================] - 0s 3ms/step - loss: 4.2181 - accuracy: 0.5417\n",
            "Epoch 26/50\n",
            "12/12 [==============================] - 0s 2ms/step - loss: 2.1180 - accuracy: 0.7083\n",
            "Epoch 27/50\n",
            "12/12 [==============================] - 0s 3ms/step - loss: 1.9520 - accuracy: 0.7917\n",
            "Epoch 28/50\n",
            "12/12 [==============================] - 0s 3ms/step - loss: 1.9276 - accuracy: 0.8333\n",
            "Epoch 29/50\n",
            "12/12 [==============================] - 0s 2ms/step - loss: 2.2373 - accuracy: 0.7083\n",
            "Epoch 30/50\n",
            "12/12 [==============================] - 0s 3ms/step - loss: 1.3545 - accuracy: 0.8333\n",
            "Epoch 31/50\n",
            "12/12 [==============================] - 0s 4ms/step - loss: 1.5834 - accuracy: 0.7917\n",
            "Epoch 32/50\n",
            "12/12 [==============================] - 0s 3ms/step - loss: 1.4877 - accuracy: 0.7500\n",
            "Epoch 33/50\n",
            "12/12 [==============================] - 0s 3ms/step - loss: 0.4530 - accuracy: 0.9583\n",
            "Epoch 34/50\n",
            "12/12 [==============================] - 0s 3ms/step - loss: 1.0341 - accuracy: 0.9167\n",
            "Epoch 35/50\n",
            "12/12 [==============================] - 0s 3ms/step - loss: 1.9697 - accuracy: 0.7500\n",
            "Epoch 36/50\n",
            "12/12 [==============================] - 0s 2ms/step - loss: 1.8434 - accuracy: 0.7500\n",
            "Epoch 37/50\n",
            "12/12 [==============================] - 0s 3ms/step - loss: 0.7784 - accuracy: 0.8333\n",
            "Epoch 38/50\n",
            "12/12 [==============================] - 0s 2ms/step - loss: 1.4599 - accuracy: 0.8750\n",
            "Epoch 39/50\n",
            "12/12 [==============================] - 0s 3ms/step - loss: 1.5651 - accuracy: 0.7500\n",
            "Epoch 40/50\n",
            "12/12 [==============================] - 0s 2ms/step - loss: 1.4106 - accuracy: 0.6667\n",
            "Epoch 41/50\n",
            "12/12 [==============================] - 0s 2ms/step - loss: 1.1588 - accuracy: 0.8333\n",
            "Epoch 42/50\n",
            "12/12 [==============================] - 0s 3ms/step - loss: 0.6363 - accuracy: 0.8333\n",
            "Epoch 43/50\n",
            "12/12 [==============================] - 0s 3ms/step - loss: 0.6803 - accuracy: 0.8333\n",
            "Epoch 44/50\n",
            "12/12 [==============================] - 0s 2ms/step - loss: 1.4004 - accuracy: 0.7917\n",
            "Epoch 45/50\n",
            "12/12 [==============================] - 0s 3ms/step - loss: 0.8918 - accuracy: 0.8750\n",
            "Epoch 46/50\n",
            "12/12 [==============================] - 0s 2ms/step - loss: 1.6412 - accuracy: 0.7917\n",
            "Epoch 47/50\n",
            "12/12 [==============================] - 0s 3ms/step - loss: 0.9923 - accuracy: 0.8333\n",
            "Epoch 48/50\n",
            "12/12 [==============================] - 0s 2ms/step - loss: 0.2383 - accuracy: 0.9583\n",
            "Epoch 49/50\n",
            "12/12 [==============================] - 0s 4ms/step - loss: 1.2913 - accuracy: 0.7083\n",
            "Epoch 50/50\n",
            "12/12 [==============================] - 0s 3ms/step - loss: 0.4327 - accuracy: 0.8750\n"
          ]
        }
      ]
    },
    {
      "cell_type": "code",
      "metadata": {
        "colab": {
          "base_uri": "https://localhost:8080/"
        },
        "id": "aH_VF1WZygvr",
        "outputId": "32ffcc48-327a-490c-e95f-20c673a8840a"
      },
      "source": [
        "featuresdf.feature[0].reshape(-1,40)"
      ],
      "execution_count": null,
      "outputs": [
        {
          "output_type": "execute_result",
          "data": {
            "text/plain": [
              "array([[-1.8788477e+02,  4.4137981e+01, -5.4129726e+01,  4.1633205e+01,\n",
              "        -5.4501314e+00,  1.3422079e+01,  1.7301735e+00,  2.2326014e+01,\n",
              "        -5.1597085e+00,  7.1470184e+00, -9.8827658e+00,  4.6512403e+00,\n",
              "         1.7910190e+00,  2.8090107e+00, -4.0713367e+00,  3.3324268e+00,\n",
              "        -1.0795351e+01,  9.6913493e-01, -6.6605177e+00,  2.8555791e+00,\n",
              "        -5.2677679e+00, -2.4492791e+00, -5.5219221e+00, -3.5378143e-01,\n",
              "        -7.6724319e+00,  1.9910520e-02, -3.2260339e+00, -1.6746795e+00,\n",
              "        -4.7172403e+00, -5.7667053e-01, -5.5358386e+00, -2.4095595e+00,\n",
              "        -2.5306201e+00, -3.8499945e-01, -4.5476830e-01, -1.0226182e+00,\n",
              "        -2.0971730e+00,  1.3804582e+00,  3.4105716e+00, -1.5160639e+00]],\n",
              "      dtype=float32)"
            ]
          },
          "metadata": {},
          "execution_count": 107
        }
      ]
    },
    {
      "cell_type": "code",
      "metadata": {
        "id": "SONMHFt6x4AL",
        "colab": {
          "base_uri": "https://localhost:8080/"
        },
        "outputId": "f0101559-8353-4324-d19a-985104b4ce93"
      },
      "source": [
        "result = model.predict(X)"
      ],
      "execution_count": null,
      "outputs": [
        {
          "output_type": "stream",
          "name": "stdout",
          "text": [
            "1/1 [==============================] - 0s 60ms/step\n"
          ]
        }
      ]
    },
    {
      "cell_type": "code",
      "metadata": {
        "id": "Yhy0vYTv4ngP"
      },
      "source": [
        "import matplotlib.pyplot as plt"
      ],
      "execution_count": null,
      "outputs": []
    },
    {
      "cell_type": "code",
      "metadata": {
        "colab": {
          "base_uri": "https://localhost:8080/",
          "height": 206
        },
        "id": "5GUD8y7o4zAZ",
        "outputId": "61612fc8-e082-4e0b-f46d-6c621bfda09c"
      },
      "source": [
        "# Menampilkan nilai error selama pelatihan\n",
        "hist = pd.DataFrame(history.history)\n",
        "hist['epoch'] = history.epoch\n",
        "hist.tail()"
      ],
      "execution_count": null,
      "outputs": [
        {
          "output_type": "execute_result",
          "data": {
            "text/plain": [
              "        loss  accuracy  epoch\n",
              "45  1.641173  0.791667     45\n",
              "46  0.992275  0.833333     46\n",
              "47  0.238282  0.958333     47\n",
              "48  1.291279  0.708333     48\n",
              "49  0.432741  0.875000     49"
            ],
            "text/html": [
              "\n",
              "  <div id=\"df-debbc3dc-d018-4872-8d77-8225b11c340e\">\n",
              "    <div class=\"colab-df-container\">\n",
              "      <div>\n",
              "<style scoped>\n",
              "    .dataframe tbody tr th:only-of-type {\n",
              "        vertical-align: middle;\n",
              "    }\n",
              "\n",
              "    .dataframe tbody tr th {\n",
              "        vertical-align: top;\n",
              "    }\n",
              "\n",
              "    .dataframe thead th {\n",
              "        text-align: right;\n",
              "    }\n",
              "</style>\n",
              "<table border=\"1\" class=\"dataframe\">\n",
              "  <thead>\n",
              "    <tr style=\"text-align: right;\">\n",
              "      <th></th>\n",
              "      <th>loss</th>\n",
              "      <th>accuracy</th>\n",
              "      <th>epoch</th>\n",
              "    </tr>\n",
              "  </thead>\n",
              "  <tbody>\n",
              "    <tr>\n",
              "      <th>45</th>\n",
              "      <td>1.641173</td>\n",
              "      <td>0.791667</td>\n",
              "      <td>45</td>\n",
              "    </tr>\n",
              "    <tr>\n",
              "      <th>46</th>\n",
              "      <td>0.992275</td>\n",
              "      <td>0.833333</td>\n",
              "      <td>46</td>\n",
              "    </tr>\n",
              "    <tr>\n",
              "      <th>47</th>\n",
              "      <td>0.238282</td>\n",
              "      <td>0.958333</td>\n",
              "      <td>47</td>\n",
              "    </tr>\n",
              "    <tr>\n",
              "      <th>48</th>\n",
              "      <td>1.291279</td>\n",
              "      <td>0.708333</td>\n",
              "      <td>48</td>\n",
              "    </tr>\n",
              "    <tr>\n",
              "      <th>49</th>\n",
              "      <td>0.432741</td>\n",
              "      <td>0.875000</td>\n",
              "      <td>49</td>\n",
              "    </tr>\n",
              "  </tbody>\n",
              "</table>\n",
              "</div>\n",
              "      <button class=\"colab-df-convert\" onclick=\"convertToInteractive('df-debbc3dc-d018-4872-8d77-8225b11c340e')\"\n",
              "              title=\"Convert this dataframe to an interactive table.\"\n",
              "              style=\"display:none;\">\n",
              "        \n",
              "  <svg xmlns=\"http://www.w3.org/2000/svg\" height=\"24px\"viewBox=\"0 0 24 24\"\n",
              "       width=\"24px\">\n",
              "    <path d=\"M0 0h24v24H0V0z\" fill=\"none\"/>\n",
              "    <path d=\"M18.56 5.44l.94 2.06.94-2.06 2.06-.94-2.06-.94-.94-2.06-.94 2.06-2.06.94zm-11 1L8.5 8.5l.94-2.06 2.06-.94-2.06-.94L8.5 2.5l-.94 2.06-2.06.94zm10 10l.94 2.06.94-2.06 2.06-.94-2.06-.94-.94-2.06-.94 2.06-2.06.94z\"/><path d=\"M17.41 7.96l-1.37-1.37c-.4-.4-.92-.59-1.43-.59-.52 0-1.04.2-1.43.59L10.3 9.45l-7.72 7.72c-.78.78-.78 2.05 0 2.83L4 21.41c.39.39.9.59 1.41.59.51 0 1.02-.2 1.41-.59l7.78-7.78 2.81-2.81c.8-.78.8-2.07 0-2.86zM5.41 20L4 18.59l7.72-7.72 1.47 1.35L5.41 20z\"/>\n",
              "  </svg>\n",
              "      </button>\n",
              "      \n",
              "  <style>\n",
              "    .colab-df-container {\n",
              "      display:flex;\n",
              "      flex-wrap:wrap;\n",
              "      gap: 12px;\n",
              "    }\n",
              "\n",
              "    .colab-df-convert {\n",
              "      background-color: #E8F0FE;\n",
              "      border: none;\n",
              "      border-radius: 50%;\n",
              "      cursor: pointer;\n",
              "      display: none;\n",
              "      fill: #1967D2;\n",
              "      height: 32px;\n",
              "      padding: 0 0 0 0;\n",
              "      width: 32px;\n",
              "    }\n",
              "\n",
              "    .colab-df-convert:hover {\n",
              "      background-color: #E2EBFA;\n",
              "      box-shadow: 0px 1px 2px rgba(60, 64, 67, 0.3), 0px 1px 3px 1px rgba(60, 64, 67, 0.15);\n",
              "      fill: #174EA6;\n",
              "    }\n",
              "\n",
              "    [theme=dark] .colab-df-convert {\n",
              "      background-color: #3B4455;\n",
              "      fill: #D2E3FC;\n",
              "    }\n",
              "\n",
              "    [theme=dark] .colab-df-convert:hover {\n",
              "      background-color: #434B5C;\n",
              "      box-shadow: 0px 1px 3px 1px rgba(0, 0, 0, 0.15);\n",
              "      filter: drop-shadow(0px 1px 2px rgba(0, 0, 0, 0.3));\n",
              "      fill: #FFFFFF;\n",
              "    }\n",
              "  </style>\n",
              "\n",
              "      <script>\n",
              "        const buttonEl =\n",
              "          document.querySelector('#df-debbc3dc-d018-4872-8d77-8225b11c340e button.colab-df-convert');\n",
              "        buttonEl.style.display =\n",
              "          google.colab.kernel.accessAllowed ? 'block' : 'none';\n",
              "\n",
              "        async function convertToInteractive(key) {\n",
              "          const element = document.querySelector('#df-debbc3dc-d018-4872-8d77-8225b11c340e');\n",
              "          const dataTable =\n",
              "            await google.colab.kernel.invokeFunction('convertToInteractive',\n",
              "                                                     [key], {});\n",
              "          if (!dataTable) return;\n",
              "\n",
              "          const docLinkHtml = 'Like what you see? Visit the ' +\n",
              "            '<a target=\"_blank\" href=https://colab.research.google.com/notebooks/data_table.ipynb>data table notebook</a>'\n",
              "            + ' to learn more about interactive tables.';\n",
              "          element.innerHTML = '';\n",
              "          dataTable['output_type'] = 'display_data';\n",
              "          await google.colab.output.renderOutput(dataTable, element);\n",
              "          const docLink = document.createElement('div');\n",
              "          docLink.innerHTML = docLinkHtml;\n",
              "          element.appendChild(docLink);\n",
              "        }\n",
              "      </script>\n",
              "    </div>\n",
              "  </div>\n",
              "  "
            ]
          },
          "metadata": {},
          "execution_count": 110
        }
      ]
    },
    {
      "cell_type": "code",
      "metadata": {
        "colab": {
          "base_uri": "https://localhost:8080/",
          "height": 655
        },
        "id": "Qx2eoqOh4lPN",
        "outputId": "3b31e5af-b1e7-4c1d-da25-ed69a5524aeb"
      },
      "source": [
        "def plot_history(history):\n",
        "  hist = pd.DataFrame(history.history)\n",
        "  hist['epoch'] = history.epoch\n",
        "  plt.figure(figsize=(10,5))  \n",
        "  plt.xlabel('Epoch')\n",
        "  plt.ylabel('Error')\n",
        "  plt.plot(hist['epoch'], hist['loss'],\n",
        "           label='train loss')\n",
        "  plt.ylim([0,15])\n",
        "  plt.legend()\n",
        "\n",
        "  plt.figure(figsize=(10,5))\n",
        "  plt.xlabel('Epoch')\n",
        "  plt.ylabel('accuracy')\n",
        "  plt.plot(hist['epoch'], hist['accuracy'],\n",
        "           label='Train Accuracy')\n",
        "  plt.ylim([0,1.2])\n",
        "  plt.legend()\n",
        "  \n",
        "plt.show()\n",
        "plot_history(history)"
      ],
      "execution_count": null,
      "outputs": [
        {
          "output_type": "display_data",
          "data": {
            "text/plain": [
              "<Figure size 720x360 with 1 Axes>"
            ],
            "image/png": "[encoded data removed]"
          },
          "metadata": {
            "needs_background": "light"
          }
        },
        {
          "output_type": "display_data",
          "data": {
            "text/plain": [
              "<Figure size 720x360 with 1 Axes>"
            ],
            "image/png": "[encoded data removed]"
          },
          "metadata": {
            "needs_background": "light"
          }
        }
      ]
    },
    {
      "cell_type": "code",
      "metadata": {
        "colab": {
          "base_uri": "https://localhost:8080/"
        },
        "id": "jMP0exxw1Vu1",
        "outputId": "51c1a2aa-a4d4-4f98-fa10-7b1c78c3b103"
      },
      "source": [
        "result"
      ],
      "execution_count": null,
      "outputs": [
        {
          "output_type": "execute_result",
          "data": {
            "text/plain": [
              "array([[5.8922052e-01, 4.4482198e-01],\n",
              "       [9.9903947e-01, 1.2838922e-04],\n",
              "       [9.7932905e-01, 7.4467971e-03],\n",
              "       [9.9996716e-01, 7.4224131e-06],\n",
              "       [9.9989527e-01, 1.5558193e-05],\n",
              "       [7.8429806e-01, 1.4608310e-01],\n",
              "       [9.9999154e-01, 1.6643027e-06],\n",
              "       [9.9996215e-01, 4.3370064e-06],\n",
              "       [9.0872042e-04, 9.9821442e-01],\n",
              "       [8.2866502e-01, 2.7722874e-01],\n",
              "       [9.9999261e-01, 1.5958560e-06],\n",
              "       [9.9985409e-01, 1.5253085e-05],\n",
              "       [6.3280331e-04, 9.7274619e-01],\n",
              "       [1.3329687e-03, 9.9706966e-01],\n",
              "       [3.7785926e-01, 7.8046942e-01],\n",
              "       [6.7019355e-05, 9.9940366e-01],\n",
              "       [9.9095574e-04, 9.9670810e-01],\n",
              "       [8.8857356e-03, 9.9198753e-01],\n",
              "       [1.2802500e-02, 9.9009556e-01],\n",
              "       [6.8291244e-03, 9.9017173e-01],\n",
              "       [6.6831330e-05, 9.9975383e-01],\n",
              "       [3.0429315e-04, 9.7885716e-01],\n",
              "       [3.9133665e-04, 9.9917805e-01],\n",
              "       [4.1286164e-04, 9.9927694e-01]], dtype=float32)"
            ]
          },
          "metadata": {},
          "execution_count": 112
        }
      ]
    },
    {
      "cell_type": "code",
      "metadata": {
        "colab": {
          "base_uri": "https://localhost:8080/"
        },
        "id": "sAvg3jV_0yyy",
        "outputId": "9b7efdba-dea2-40ad-bc42-a651175994d8"
      },
      "source": [
        "hasil = []\n",
        "for i in result:\n",
        "  if i.max()/(i[0]+i[1]) == i[0]/(i[0]+i[1]):\n",
        "    hasil.append('Bagus')\n",
        "    print('Bagus')\n",
        "  else:\n",
        "    hasil.append('Biasa')\n",
        "    print('Biasa')"
      ],
      "execution_count": null,
      "outputs": [
        {
          "output_type": "stream",
          "name": "stdout",
          "text": [
            "Bagus\n",
            "Bagus\n",
            "Bagus\n",
            "Bagus\n",
            "Bagus\n",
            "Bagus\n",
            "Bagus\n",
            "Bagus\n",
            "Biasa\n",
            "Bagus\n",
            "Bagus\n",
            "Bagus\n",
            "Biasa\n",
            "Biasa\n",
            "Biasa\n",
            "Biasa\n",
            "Biasa\n",
            "Biasa\n",
            "Biasa\n",
            "Biasa\n",
            "Biasa\n",
            "Biasa\n",
            "Biasa\n",
            "Biasa\n"
          ]
        }
      ]
    },
    {
      "cell_type": "code",
      "metadata": {
        "colab": {
          "base_uri": "https://localhost:8080/"
        },
        "id": "sNS921Hy6e1-",
        "outputId": "400864b7-3537-452b-f825-772e130aea87"
      },
      "source": [
        "np.array(hasil)"
      ],
      "execution_count": null,
      "outputs": [
        {
          "output_type": "execute_result",
          "data": {
            "text/plain": [
              "array(['Bagus', 'Bagus', 'Bagus', 'Bagus', 'Bagus', 'Bagus', 'Bagus',\n",
              "       'Bagus', 'Biasa', 'Bagus', 'Bagus', 'Bagus', 'Biasa', 'Biasa',\n",
              "       'Biasa', 'Biasa', 'Biasa', 'Biasa', 'Biasa', 'Biasa', 'Biasa',\n",
              "       'Biasa', 'Biasa', 'Biasa'], dtype='<U5')"
            ]
          },
          "metadata": {},
          "execution_count": 114
        }
      ]
    },
    {
      "cell_type": "code",
      "metadata": {
        "colab": {
          "base_uri": "https://localhost:8080/"
        },
        "id": "mgAAY7C06tsH",
        "outputId": "5bc2488b-8f3d-42bb-b0fe-728ce290d089"
      },
      "source": [
        "np.array(murai_data.target)"
      ],
      "execution_count": null,
      "outputs": [
        {
          "output_type": "execute_result",
          "data": {
            "text/plain": [
              "array(['Bagus', 'Bagus', 'Bagus', 'Bagus', 'Bagus', 'Bagus', 'Bagus',\n",
              "       'Bagus', 'Bagus', 'Bagus', 'Bagus', 'Bagus', 'Biasa', 'Biasa',\n",
              "       'Biasa', 'Biasa', 'Biasa', 'Biasa', 'Biasa', 'Biasa', 'Biasa',\n",
              "       'Biasa', 'Biasa', 'Biasa'], dtype=object)"
            ]
          },
          "metadata": {},
          "execution_count": 115
        }
      ]
    },
    {
      "cell_type": "code",
      "metadata": {
        "colab": {
          "base_uri": "https://localhost:8080/"
        },
        "id": "gT3WWZqN9ZqI",
        "outputId": "d3b08e29-d80c-48bb-df67-398a8746236b"
      },
      "source": [
        "!wget https://raw.githubusercontent.com/ekodavidkurnia/AI-Assistant-Lecturer-2021/master/helper_functions.py"
      ],
      "execution_count": null,
      "outputs": [
        {
          "output_type": "stream",
          "name": "stdout",
          "text": [
            "--2022-10-28 14:20:56--  https://raw.githubusercontent.com/ekodavidkurnia/AI-Assistant-Lecturer-2021/master/helper_functions.py\n",
            "Resolving raw.githubusercontent.com (raw.githubusercontent.com)... 185.199.109.133, 185.199.111.133, 185.199.110.133, ...\n",
            "Connecting to raw.githubusercontent.com (raw.githubusercontent.com)|185.199.109.133|:443... connected.\n",
            "HTTP request sent, awaiting response... 200 OK\n",
            "Length: 10246 (10K) [text/plain]\n",
            "Saving to: ‘helper_functions.py.1’\n",
            "\n",
            "helper_functions.py 100%[===================>]  10.01K  --.-KB/s    in 0s      \n",
            "\n",
            "2022-10-28 14:20:57 (85.6 MB/s) - ‘helper_functions.py.1’ saved [10246/10246]\n",
            "\n"
          ]
        }
      ]
    },
    {
      "cell_type": "code",
      "metadata": {
        "id": "4w1H0fgA9eIl"
      },
      "source": [
        "# Import helper functions we're going to use\n",
        "from helper_functions import make_confusion_matrix"
      ],
      "execution_count": null,
      "outputs": []
    },
    {
      "cell_type": "code",
      "metadata": {
        "colab": {
          "base_uri": "https://localhost:8080/",
          "height": 584
        },
        "id": "pGx3z8oa-Jpx",
        "outputId": "7ef598e1-b272-46cc-8f34-566d7e44506a"
      },
      "source": [
        "make_confusion_matrix(y_true=np.array(murai_data.target),\n",
        "                      y_pred=np.array(hasil))"
      ],
      "execution_count": null,
      "outputs": [
        {
          "output_type": "display_data",
          "data": {
            "text/plain": [
              "<Figure size 720x720 with 2 Axes>"
            ],
            "image/png": "[encoded data removed]"
          },
          "metadata": {
            "needs_background": "light"
          }
        }
      ]
    },
    {
      "cell_type": "code",
      "metadata": {
        "id": "b-NS2jiI7QW3"
      },
      "source": [],
      "execution_count": null,
      "outputs": []
    },
    {
      "cell_type": "markdown",
      "metadata": {
        "id": "-xVCSK0K9Qqm"
      },
      "source": [
        "## Random Forest"
      ]
    },
    {
      "cell_type": "code",
      "metadata": {
        "colab": {
          "base_uri": "https://localhost:8080/"
        },
        "id": "E1yFfriXAozM",
        "outputId": "0040044d-9a10-4a02-ce47-bf648a701ae5"
      },
      "source": [
        "np.array(featuresdf.feature.tolist()).shape"
      ],
      "execution_count": null,
      "outputs": [
        {
          "output_type": "execute_result",
          "data": {
            "text/plain": [
              "(24, 40)"
            ]
          },
          "metadata": {},
          "execution_count": 119
        }
      ]
    },
    {
      "cell_type": "code",
      "metadata": {
        "id": "Ec9SM_a5-hjC"
      },
      "source": [
        "X = np.array(featuresdf.feature.tolist())\n",
        "y = np.array(featuresdf.class_label.tolist())"
      ],
      "execution_count": null,
      "outputs": []
    },
    {
      "cell_type": "code",
      "metadata": {
        "id": "GlyPpQNW9SLj"
      },
      "source": [
        "#Encode labels from text to integers.\n",
        "from sklearn import preprocessing\n",
        "le = preprocessing.LabelEncoder()\n",
        "le.fit(y)\n",
        "labels_encoded = le.transform(y)"
      ],
      "execution_count": null,
      "outputs": []
    },
    {
      "cell_type": "code",
      "metadata": {
        "colab": {
          "base_uri": "https://localhost:8080/"
        },
        "id": "s5I6TF9S_oOI",
        "outputId": "eb5f7e79-eb13-4963-d6b7-dd07bb928dfd"
      },
      "source": [
        "labels_encoded"
      ],
      "execution_count": null,
      "outputs": [
        {
          "output_type": "execute_result",
          "data": {
            "text/plain": [
              "array([0, 0, 0, 0, 0, 0, 0, 0, 0, 0, 0, 0, 1, 1, 1, 1, 1, 1, 1, 1, 1, 1,\n",
              "       1, 1])"
            ]
          },
          "metadata": {},
          "execution_count": 122
        }
      ]
    },
    {
      "cell_type": "code",
      "metadata": {
        "colab": {
          "base_uri": "https://localhost:8080/"
        },
        "id": "1g6aHtAB-rZX",
        "outputId": "94148de3-58a9-4958-c0dc-bbd784a63d88"
      },
      "source": [
        "from sklearn.ensemble import RandomForestClassifier\n",
        "RF_model = RandomForestClassifier()\n",
        "RF_model.fit(X, labels_encoded)"
      ],
      "execution_count": null,
      "outputs": [
        {
          "output_type": "execute_result",
          "data": {
            "text/plain": [
              "RandomForestClassifier()"
            ]
          },
          "metadata": {},
          "execution_count": 123
        }
      ]
    },
    {
      "cell_type": "code",
      "metadata": {
        "colab": {
          "base_uri": "https://localhost:8080/"
        },
        "id": "BdAx49eQ-9TY",
        "outputId": "4698d5af-0cf6-4ca8-fc38-6b0a1f8f98fa"
      },
      "source": [
        "RF_model.score(X, labels_encoded)"
      ],
      "execution_count": null,
      "outputs": [
        {
          "output_type": "execute_result",
          "data": {
            "text/plain": [
              "1.0"
            ]
          },
          "metadata": {},
          "execution_count": 124
        }
      ]
    },
    {
      "cell_type": "code",
      "metadata": {
        "id": "MY16a_-oBMaz"
      },
      "source": [
        "prediction_RF = RF_model.predict(X)\n",
        "#Inverse le transform to get original label back. \n",
        "prediction_RF = le.inverse_transform(prediction_RF)"
      ],
      "execution_count": null,
      "outputs": []
    },
    {
      "cell_type": "code",
      "metadata": {
        "id": "PueKUZOHCA27",
        "colab": {
          "base_uri": "https://localhost:8080/"
        },
        "outputId": "1f60eb44-fffa-4bee-ff40-8e83808ebb83"
      },
      "source": [
        "y"
      ],
      "execution_count": null,
      "outputs": [
        {
          "output_type": "execute_result",
          "data": {
            "text/plain": [
              "array(['Bagus', 'Bagus', 'Bagus', 'Bagus', 'Bagus', 'Bagus', 'Bagus',\n",
              "       'Bagus', 'Bagus', 'Bagus', 'Bagus', 'Bagus', 'Biasa', 'Biasa',\n",
              "       'Biasa', 'Biasa', 'Biasa', 'Biasa', 'Biasa', 'Biasa', 'Biasa',\n",
              "       'Biasa', 'Biasa', 'Biasa'], dtype='<U5')"
            ]
          },
          "metadata": {},
          "execution_count": 126
        }
      ]
    },
    {
      "cell_type": "code",
      "metadata": {
        "id": "UK2h_D6aCD77",
        "colab": {
          "base_uri": "https://localhost:8080/"
        },
        "outputId": "bc6d5118-d9f5-45a2-c811-0ee73f6395d9"
      },
      "source": [
        "prediction_RF"
      ],
      "execution_count": null,
      "outputs": [
        {
          "output_type": "execute_result",
          "data": {
            "text/plain": [
              "array(['Bagus', 'Bagus', 'Bagus', 'Bagus', 'Bagus', 'Bagus', 'Bagus',\n",
              "       'Bagus', 'Bagus', 'Bagus', 'Bagus', 'Bagus', 'Biasa', 'Biasa',\n",
              "       'Biasa', 'Biasa', 'Biasa', 'Biasa', 'Biasa', 'Biasa', 'Biasa',\n",
              "       'Biasa', 'Biasa', 'Biasa'], dtype='<U5')"
            ]
          },
          "metadata": {},
          "execution_count": 127
        }
      ]
    },
    {
      "cell_type": "code",
      "metadata": {
        "id": "dHtV76eRBnh3",
        "colab": {
          "base_uri": "https://localhost:8080/",
          "height": 200
        },
        "outputId": "99d60499-9f0b-481b-b830-5c032571cabd"
      },
      "source": [
        "cm = confusion_matrix(y, prediction_RF)\n",
        "#print(cm)\n",
        "sns.heatmap(cm, annot=True)"
      ],
      "execution_count": null,
      "outputs": [
        {
          "output_type": "error",
          "ename": "NameError",
          "evalue": "ignored",
          "traceback": [
            "\u001b[0;31m---------------------------------------------------------------------------\u001b[0m",
            "\u001b[0;31mNameError\u001b[0m                                 Traceback (most recent call last)",
            "\u001b[0;32m<ipython-input-128-2f4c512f9f35>\u001b[0m in \u001b[0;36m<module>\u001b[0;34m\u001b[0m\n\u001b[0;32m----> 1\u001b[0;31m \u001b[0mcm\u001b[0m \u001b[0;34m=\u001b[0m \u001b[0mconfusion_matrix\u001b[0m\u001b[0;34m(\u001b[0m\u001b[0my\u001b[0m\u001b[0;34m,\u001b[0m \u001b[0mprediction_RF\u001b[0m\u001b[0;34m)\u001b[0m\u001b[0;34m\u001b[0m\u001b[0;34m\u001b[0m\u001b[0m\n\u001b[0m\u001b[1;32m      2\u001b[0m \u001b[0;31m#print(cm)\u001b[0m\u001b[0;34m\u001b[0m\u001b[0;34m\u001b[0m\u001b[0;34m\u001b[0m\u001b[0m\n\u001b[1;32m      3\u001b[0m \u001b[0msns\u001b[0m\u001b[0;34m.\u001b[0m\u001b[0mheatmap\u001b[0m\u001b[0;34m(\u001b[0m\u001b[0mcm\u001b[0m\u001b[0;34m,\u001b[0m \u001b[0mannot\u001b[0m\u001b[0;34m=\u001b[0m\u001b[0;32mTrue\u001b[0m\u001b[0;34m)\u001b[0m\u001b[0;34m\u001b[0m\u001b[0;34m\u001b[0m\u001b[0m\n",
            "\u001b[0;31mNameError\u001b[0m: name 'confusion_matrix' is not defined"
          ]
        }
      ]
    },
    {
      "cell_type": "code",
      "metadata": {
        "id": "JOjFOBzt-qQX"
      },
      "source": [
        "make_confusion_matrix(y_true=y,\n",
        "                      y_pred=prediction_RF)"
      ],
      "execution_count": null,
      "outputs": []
    },
    {
      "cell_type": "markdown",
      "metadata": {
        "id": "7P-U8WucVpbt"
      },
      "source": [
        "# Prediksi Data baru"
      ]
    },
    {
      "cell_type": "code",
      "metadata": {
        "id": "72yIwMxHZN5q"
      },
      "source": [
        "lokasi_data = '/content/gdrive/MyDrive/Random/Ba1.mp3'"
      ],
      "execution_count": null,
      "outputs": []
    },
    {
      "cell_type": "code",
      "metadata": {
        "id": "7Zg0CfdHB29W"
      },
      "source": [
        "coba_data = extract_features(lokasi_data)"
      ],
      "execution_count": null,
      "outputs": []
    },
    {
      "cell_type": "code",
      "metadata": {
        "id": "rDeBZD4vXA0y"
      },
      "source": [
        "coba_data = np.array(coba_data)"
      ],
      "execution_count": null,
      "outputs": []
    },
    {
      "cell_type": "code",
      "metadata": {
        "id": "BlB55_p7XP46"
      },
      "source": [
        "hasil_coba = RF_model.predict(coba_data.reshape(1, 40))\n",
        "#Inverse le transform to get original label back. \n",
        "hasil_coba = le.inverse_transform(hasil_coba)"
      ],
      "execution_count": null,
      "outputs": []
    },
    {
      "cell_type": "code",
      "metadata": {
        "id": "4poh4AY7YhJW"
      },
      "source": [
        "hasil_coba"
      ],
      "execution_count": null,
      "outputs": []
    },
    {
      "cell_type": "code",
      "metadata": {
        "id": "sRU2p94b-pc8"
      },
      "source": [],
      "execution_count": null,
      "outputs": []
    },
    {
      "cell_type": "markdown",
      "metadata": {
        "id": "wo5lvmMSDVKF"
      },
      "source": [
        "**Validasi ML**"
      ]
    },
    {
      "cell_type": "code",
      "metadata": {
        "id": "DwaW9DLf_UJe"
      },
      "source": [
        "path = '/content/gdrive/MyDrive/Validasi/Bagus'"
      ],
      "execution_count": null,
      "outputs": []
    },
    {
      "cell_type": "code",
      "metadata": {
        "id": "sqO-bwpuAAVl"
      },
      "source": [
        "sound = []\n",
        "for i in os.listdir(path):\n",
        "  pic = os.path.join(path + \"/\", i )\n",
        "  sound.append(pic)\n",
        "\n",
        "newData = pd.DataFrame()\n",
        "newData[\"sound\"] = sound\n",
        "newData"
      ],
      "execution_count": null,
      "outputs": []
    },
    {
      "cell_type": "code",
      "metadata": {
        "id": "17WLzoaZAFIF"
      },
      "source": [
        "features = []\n",
        "for index, row in newData.iterrows():\n",
        "    \n",
        "    file_name = row['sound']\n",
        "    data = extract_features(file_name)\n",
        "    \n",
        "    features.append(data)"
      ],
      "execution_count": null,
      "outputs": []
    },
    {
      "cell_type": "code",
      "metadata": {
        "id": "gEIvKcxDAK6p"
      },
      "source": [
        "data_baru = RF_model.predict(np.array(features))\n",
        "#Inverse le transform to get original label back. \n",
        "data_baru = le.inverse_transform(data_baru)"
      ],
      "execution_count": null,
      "outputs": []
    },
    {
      "cell_type": "code",
      "metadata": {
        "id": "JvaHsVJ8AOY0"
      },
      "source": [
        "data_baru[:5]"
      ],
      "execution_count": null,
      "outputs": []
    },
    {
      "cell_type": "code",
      "metadata": {
        "id": "2nlQkAVFARhk"
      },
      "source": [
        "ax = sns.countplot(data_baru[:5])\n",
        "plt.xlabel(\"Kelas\")\n",
        "plt.ylabel(\"Jumlah\")\n",
        "plt.title(\"Hasil Prediksi 5 Data Baru\") # You can comment this line out if you don't need title\n",
        "plt.show(ax)"
      ],
      "execution_count": null,
      "outputs": []
    },
    {
      "cell_type": "code",
      "metadata": {
        "id": "H6U2g-_KAetG"
      },
      "source": [
        "path = '/content/gdrive/MyDrive/Validasi/Biasa'"
      ],
      "execution_count": null,
      "outputs": []
    },
    {
      "cell_type": "code",
      "metadata": {
        "id": "koYV_gzZAiBd"
      },
      "source": [
        "sound = []\n",
        "for i in os.listdir(path):\n",
        "  pic = os.path.join(path + \"/\", i )\n",
        "  sound.append(pic)\n",
        "\n",
        "newData = pd.DataFrame()\n",
        "newData[\"sound\"] = sound\n",
        "newData"
      ],
      "execution_count": null,
      "outputs": []
    },
    {
      "cell_type": "code",
      "metadata": {
        "id": "4Z1oxBM7AkfR"
      },
      "source": [
        "features = []\n",
        "for index, row in newData.iterrows():\n",
        "    \n",
        "    file_name = row['sound']\n",
        "    data = extract_features(file_name)\n",
        "    \n",
        "    features.append(data)"
      ],
      "execution_count": null,
      "outputs": []
    },
    {
      "cell_type": "code",
      "metadata": {
        "id": "QFwvGcMxAn6F"
      },
      "source": [
        "data_baru = RF_model.predict(np.array(features))\n",
        "#Inverse le transform to get original label back. \n",
        "data_baru = le.inverse_transform(data_baru)"
      ],
      "execution_count": null,
      "outputs": []
    },
    {
      "cell_type": "code",
      "metadata": {
        "id": "iLDJLFf7Aqaf"
      },
      "source": [
        "data_baru[:5]"
      ],
      "execution_count": null,
      "outputs": []
    },
    {
      "cell_type": "code",
      "metadata": {
        "id": "MVwNgd4VAuCY"
      },
      "source": [
        "ax = sns.countplot(data_baru[:5])\n",
        "plt.xlabel(\"Kelas\")\n",
        "plt.ylabel(\"Jumlah\")\n",
        "plt.title(\"Hasil Prediksi 5 Data Baru\") # You can comment this line out if you don't need title\n",
        "plt.show(ax)"
      ],
      "execution_count": null,
      "outputs": []
    },
    {
      "cell_type": "markdown",
      "metadata": {
        "id": "QWNeqw9rclls"
      },
      "source": [
        "## prediksi semua"
      ]
    },
    {
      "cell_type": "code",
      "metadata": {
        "id": "1EWFF8gpdT2O"
      },
      "source": [
        "path = '/content/gdrive/MyDrive/Random'"
      ],
      "execution_count": null,
      "outputs": []
    },
    {
      "cell_type": "code",
      "metadata": {
        "id": "R8unZpf7eDy1"
      },
      "source": [
        "sound = []\n",
        "for i in os.listdir(path):\n",
        "  pic = os.path.join(path + \"/\", i )\n",
        "  sound.append(pic)\n",
        "\n",
        "newData = pd.DataFrame()\n",
        "newData[\"sound\"] = sound\n",
        "newData"
      ],
      "execution_count": null,
      "outputs": []
    },
    {
      "cell_type": "code",
      "metadata": {
        "id": "aAoqmWpTc-dz"
      },
      "source": [
        "features = []\n",
        "for index, row in newData.iterrows():\n",
        "    \n",
        "    file_name = row['sound']\n",
        "    data = extract_features(file_name)\n",
        "    \n",
        "    features.append(data)"
      ],
      "execution_count": null,
      "outputs": []
    },
    {
      "cell_type": "code",
      "metadata": {
        "id": "9ZwgTJkEf3EY"
      },
      "source": [
        "data_baru = RF_model.predict(np.array(features))\n",
        "#Inverse le transform to get original label back. \n",
        "data_baru = le.inverse_transform(data_baru)"
      ],
      "execution_count": null,
      "outputs": []
    },
    {
      "cell_type": "code",
      "metadata": {
        "id": "-m25Tx2pg74n"
      },
      "source": [
        "data_baru[:20]"
      ],
      "execution_count": null,
      "outputs": []
    },
    {
      "cell_type": "code",
      "metadata": {
        "id": "Vcb9hLx-g_vm"
      },
      "source": [
        "import matplotlib.pyplot as plt"
      ],
      "execution_count": null,
      "outputs": []
    },
    {
      "cell_type": "code",
      "metadata": {
        "id": "-3ZXKPLthNkS"
      },
      "source": [
        "ax = sns.countplot(data_baru[:20])\n",
        "plt.xlabel(\"Kelas\")\n",
        "plt.ylabel(\"Jumlah\")\n",
        "plt.title(\"Hasil Prediksi 5 Data Baru\") # You can comment this line out if you don't need title\n",
        "plt.show(ax)"
      ],
      "execution_count": null,
      "outputs": []
    },
    {
      "cell_type": "code",
      "metadata": {
        "id": "A9oL-wTsiGUL"
      },
      "source": [],
      "execution_count": null,
      "outputs": []
    }
  ]
}